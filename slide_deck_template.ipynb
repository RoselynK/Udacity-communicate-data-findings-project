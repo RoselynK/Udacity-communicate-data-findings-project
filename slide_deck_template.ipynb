{
 "cells": [
  {
   "cell_type": "markdown",
   "metadata": {
    "slideshow": {
     "slide_type": "slide"
    }
   },
   "source": [
    "# Prosper Loan Data Exploration\n",
    "## by Roselyn N. Kinuthia"
   ]
  },
  {
   "cell_type": "markdown",
   "metadata": {
    "slideshow": {
     "slide_type": "slide"
    }
   },
   "source": [
    "## Investigation Overview\n",
    "\n",
    "The main objective of this presentation is to highlight the factors affecting the loan status. I will focus on prosper rating, prosper score, loan original amount and employment status.\n",
    "\n",
    "## Dataset Overview\n",
    "\n",
    "This data set contains information on peer to peer loans facilitated by credit company Prosper. There are 113,937 loans with 81 variables. However, I chose a few variables to focus on in my analysis. These were: 'Term', 'LoanStatus', 'BorrowerAPR', 'BorrowerRate', 'ProsperRating (Alpha)', 'ProsperScore', 'ListingCategory (numeric)','EmploymentStatus', 'DelinquenciesLast7Years', 'StatedMonthlyIncome' 'TotalProsperLoans', 'LoanOriginalAmount','LoanOriginationDate', 'Recommendations', 'Investors'."
   ]
  },
  {
   "cell_type": "code",
   "execution_count": 1,
   "metadata": {
    "slideshow": {
     "slide_type": "skip"
    }
   },
   "outputs": [],
   "source": [
    "# import all packages and set plots to be embedded inline\n",
    "import numpy as np\n",
    "import pandas as pd\n",
    "import matplotlib.pyplot as plt\n",
    "#import seaborn as sb\n",
    "import seaborn as sns\n",
    "\n",
    "%matplotlib inline\n",
    "\n",
    "# suppress warnings from final output\n",
    "import warnings\n",
    "warnings.simplefilter(\"ignore\")"
   ]
  },
  {
   "cell_type": "code",
   "execution_count": 2,
   "metadata": {
    "slideshow": {
     "slide_type": "skip"
    }
   },
   "outputs": [
    {
     "data": {
      "text/html": [
       "<div>\n",
       "<style scoped>\n",
       "    .dataframe tbody tr th:only-of-type {\n",
       "        vertical-align: middle;\n",
       "    }\n",
       "\n",
       "    .dataframe tbody tr th {\n",
       "        vertical-align: top;\n",
       "    }\n",
       "\n",
       "    .dataframe thead th {\n",
       "        text-align: right;\n",
       "    }\n",
       "</style>\n",
       "<table border=\"1\" class=\"dataframe\">\n",
       "  <thead>\n",
       "    <tr style=\"text-align: right;\">\n",
       "      <th></th>\n",
       "      <th>ListingKey</th>\n",
       "      <th>ListingNumber</th>\n",
       "      <th>ListingCreationDate</th>\n",
       "      <th>CreditGrade</th>\n",
       "      <th>Term</th>\n",
       "      <th>LoanStatus</th>\n",
       "      <th>ClosedDate</th>\n",
       "      <th>BorrowerAPR</th>\n",
       "      <th>BorrowerRate</th>\n",
       "      <th>LenderYield</th>\n",
       "      <th>...</th>\n",
       "      <th>LP_ServiceFees</th>\n",
       "      <th>LP_CollectionFees</th>\n",
       "      <th>LP_GrossPrincipalLoss</th>\n",
       "      <th>LP_NetPrincipalLoss</th>\n",
       "      <th>LP_NonPrincipalRecoverypayments</th>\n",
       "      <th>PercentFunded</th>\n",
       "      <th>Recommendations</th>\n",
       "      <th>InvestmentFromFriendsCount</th>\n",
       "      <th>InvestmentFromFriendsAmount</th>\n",
       "      <th>Investors</th>\n",
       "    </tr>\n",
       "  </thead>\n",
       "  <tbody>\n",
       "    <tr>\n",
       "      <th>0</th>\n",
       "      <td>1021339766868145413AB3B</td>\n",
       "      <td>193129</td>\n",
       "      <td>2007-08-26 19:09:29.263000000</td>\n",
       "      <td>C</td>\n",
       "      <td>36</td>\n",
       "      <td>Completed</td>\n",
       "      <td>2009-08-14 00:00:00</td>\n",
       "      <td>0.16516</td>\n",
       "      <td>0.1580</td>\n",
       "      <td>0.1380</td>\n",
       "      <td>...</td>\n",
       "      <td>-133.18</td>\n",
       "      <td>0.0</td>\n",
       "      <td>0.0</td>\n",
       "      <td>0.0</td>\n",
       "      <td>0.0</td>\n",
       "      <td>1.0</td>\n",
       "      <td>0</td>\n",
       "      <td>0</td>\n",
       "      <td>0.0</td>\n",
       "      <td>258</td>\n",
       "    </tr>\n",
       "    <tr>\n",
       "      <th>1</th>\n",
       "      <td>10273602499503308B223C1</td>\n",
       "      <td>1209647</td>\n",
       "      <td>2014-02-27 08:28:07.900000000</td>\n",
       "      <td>NaN</td>\n",
       "      <td>36</td>\n",
       "      <td>Current</td>\n",
       "      <td>NaN</td>\n",
       "      <td>0.12016</td>\n",
       "      <td>0.0920</td>\n",
       "      <td>0.0820</td>\n",
       "      <td>...</td>\n",
       "      <td>0.00</td>\n",
       "      <td>0.0</td>\n",
       "      <td>0.0</td>\n",
       "      <td>0.0</td>\n",
       "      <td>0.0</td>\n",
       "      <td>1.0</td>\n",
       "      <td>0</td>\n",
       "      <td>0</td>\n",
       "      <td>0.0</td>\n",
       "      <td>1</td>\n",
       "    </tr>\n",
       "    <tr>\n",
       "      <th>2</th>\n",
       "      <td>0EE9337825851032864889A</td>\n",
       "      <td>81716</td>\n",
       "      <td>2007-01-05 15:00:47.090000000</td>\n",
       "      <td>HR</td>\n",
       "      <td>36</td>\n",
       "      <td>Completed</td>\n",
       "      <td>2009-12-17 00:00:00</td>\n",
       "      <td>0.28269</td>\n",
       "      <td>0.2750</td>\n",
       "      <td>0.2400</td>\n",
       "      <td>...</td>\n",
       "      <td>-24.20</td>\n",
       "      <td>0.0</td>\n",
       "      <td>0.0</td>\n",
       "      <td>0.0</td>\n",
       "      <td>0.0</td>\n",
       "      <td>1.0</td>\n",
       "      <td>0</td>\n",
       "      <td>0</td>\n",
       "      <td>0.0</td>\n",
       "      <td>41</td>\n",
       "    </tr>\n",
       "    <tr>\n",
       "      <th>3</th>\n",
       "      <td>0EF5356002482715299901A</td>\n",
       "      <td>658116</td>\n",
       "      <td>2012-10-22 11:02:35.010000000</td>\n",
       "      <td>NaN</td>\n",
       "      <td>36</td>\n",
       "      <td>Current</td>\n",
       "      <td>NaN</td>\n",
       "      <td>0.12528</td>\n",
       "      <td>0.0974</td>\n",
       "      <td>0.0874</td>\n",
       "      <td>...</td>\n",
       "      <td>-108.01</td>\n",
       "      <td>0.0</td>\n",
       "      <td>0.0</td>\n",
       "      <td>0.0</td>\n",
       "      <td>0.0</td>\n",
       "      <td>1.0</td>\n",
       "      <td>0</td>\n",
       "      <td>0</td>\n",
       "      <td>0.0</td>\n",
       "      <td>158</td>\n",
       "    </tr>\n",
       "    <tr>\n",
       "      <th>4</th>\n",
       "      <td>0F023589499656230C5E3E2</td>\n",
       "      <td>909464</td>\n",
       "      <td>2013-09-14 18:38:39.097000000</td>\n",
       "      <td>NaN</td>\n",
       "      <td>36</td>\n",
       "      <td>Current</td>\n",
       "      <td>NaN</td>\n",
       "      <td>0.24614</td>\n",
       "      <td>0.2085</td>\n",
       "      <td>0.1985</td>\n",
       "      <td>...</td>\n",
       "      <td>-60.27</td>\n",
       "      <td>0.0</td>\n",
       "      <td>0.0</td>\n",
       "      <td>0.0</td>\n",
       "      <td>0.0</td>\n",
       "      <td>1.0</td>\n",
       "      <td>0</td>\n",
       "      <td>0</td>\n",
       "      <td>0.0</td>\n",
       "      <td>20</td>\n",
       "    </tr>\n",
       "  </tbody>\n",
       "</table>\n",
       "<p>5 rows × 81 columns</p>\n",
       "</div>"
      ],
      "text/plain": [
       "                ListingKey  ListingNumber            ListingCreationDate  \\\n",
       "0  1021339766868145413AB3B         193129  2007-08-26 19:09:29.263000000   \n",
       "1  10273602499503308B223C1        1209647  2014-02-27 08:28:07.900000000   \n",
       "2  0EE9337825851032864889A          81716  2007-01-05 15:00:47.090000000   \n",
       "3  0EF5356002482715299901A         658116  2012-10-22 11:02:35.010000000   \n",
       "4  0F023589499656230C5E3E2         909464  2013-09-14 18:38:39.097000000   \n",
       "\n",
       "  CreditGrade  Term LoanStatus           ClosedDate  BorrowerAPR  \\\n",
       "0           C    36  Completed  2009-08-14 00:00:00      0.16516   \n",
       "1         NaN    36    Current                  NaN      0.12016   \n",
       "2          HR    36  Completed  2009-12-17 00:00:00      0.28269   \n",
       "3         NaN    36    Current                  NaN      0.12528   \n",
       "4         NaN    36    Current                  NaN      0.24614   \n",
       "\n",
       "   BorrowerRate  LenderYield  ...  LP_ServiceFees  LP_CollectionFees  \\\n",
       "0        0.1580       0.1380  ...         -133.18                0.0   \n",
       "1        0.0920       0.0820  ...            0.00                0.0   \n",
       "2        0.2750       0.2400  ...          -24.20                0.0   \n",
       "3        0.0974       0.0874  ...         -108.01                0.0   \n",
       "4        0.2085       0.1985  ...          -60.27                0.0   \n",
       "\n",
       "   LP_GrossPrincipalLoss  LP_NetPrincipalLoss LP_NonPrincipalRecoverypayments  \\\n",
       "0                    0.0                  0.0                             0.0   \n",
       "1                    0.0                  0.0                             0.0   \n",
       "2                    0.0                  0.0                             0.0   \n",
       "3                    0.0                  0.0                             0.0   \n",
       "4                    0.0                  0.0                             0.0   \n",
       "\n",
       "   PercentFunded  Recommendations InvestmentFromFriendsCount  \\\n",
       "0            1.0                0                          0   \n",
       "1            1.0                0                          0   \n",
       "2            1.0                0                          0   \n",
       "3            1.0                0                          0   \n",
       "4            1.0                0                          0   \n",
       "\n",
       "  InvestmentFromFriendsAmount Investors  \n",
       "0                         0.0       258  \n",
       "1                         0.0         1  \n",
       "2                         0.0        41  \n",
       "3                         0.0       158  \n",
       "4                         0.0        20  \n",
       "\n",
       "[5 rows x 81 columns]"
      ]
     },
     "execution_count": 2,
     "metadata": {},
     "output_type": "execute_result"
    }
   ],
   "source": [
    "# load in the dataset into a pandas dataframe\n",
    "df = pd.read_csv('prosperLoanData.csv')\n",
    "df.head()\n"
   ]
  },
  {
   "cell_type": "code",
   "execution_count": 3,
   "metadata": {
    "slideshow": {
     "slide_type": "skip"
    }
   },
   "outputs": [],
   "source": [
    "#choosing a few columns\n",
    "selected_target_columns =  [\n",
    "    'Term', 'LoanStatus', 'BorrowerAPR', 'BorrowerRate', 'ProsperRating (Alpha)', 'ProsperScore', 'ListingCategory (numeric)','EmploymentStatus',\n",
    "    'DelinquenciesLast7Years', 'StatedMonthlyIncome', 'TotalProsperLoans', 'LoanOriginalAmount',\n",
    "    'LoanOriginationDate', 'Recommendations', 'Investors'\n",
    "]\n",
    "df2 = df[selected_target_columns]"
   ]
  },
  {
   "cell_type": "code",
   "execution_count": 4,
   "metadata": {
    "slideshow": {
     "slide_type": "skip"
    }
   },
   "outputs": [],
   "source": [
    "#Data cleaning\n",
    "df2 = df2.dropna(subset=['ProsperRating (Alpha)']).reset_index()\n",
    "df2['LoanOriginationDate'] = pd.to_datetime(df2['LoanOriginationDate'])\n",
    "df2['TotalProsperLoans'] = df2['TotalProsperLoans'].fillna(0)\n",
    "df2 = df2[df2.ProsperScore <= 10]"
   ]
  },
  {
   "cell_type": "code",
   "execution_count": 5,
   "metadata": {
    "slideshow": {
     "slide_type": "skip"
    }
   },
   "outputs": [
    {
     "name": "stdout",
     "output_type": "stream",
     "text": [
      "<class 'pandas.core.frame.DataFrame'>\n",
      "Int64Index: 83397 entries, 0 to 84852\n",
      "Data columns (total 16 columns):\n",
      " #   Column                     Non-Null Count  Dtype         \n",
      "---  ------                     --------------  -----         \n",
      " 0   index                      83397 non-null  int64         \n",
      " 1   Term                       83397 non-null  int64         \n",
      " 2   LoanStatus                 83397 non-null  object        \n",
      " 3   BorrowerAPR                83397 non-null  float64       \n",
      " 4   BorrowerRate               83397 non-null  float64       \n",
      " 5   ProsperRating (Alpha)      83397 non-null  object        \n",
      " 6   ProsperScore               83397 non-null  float64       \n",
      " 7   ListingCategory (numeric)  83397 non-null  int64         \n",
      " 8   EmploymentStatus           83397 non-null  object        \n",
      " 9   DelinquenciesLast7Years    83397 non-null  float64       \n",
      " 10  StatedMonthlyIncome        83397 non-null  float64       \n",
      " 11  TotalProsperLoans          83397 non-null  float64       \n",
      " 12  LoanOriginalAmount         83397 non-null  int64         \n",
      " 13  LoanOriginationDate        83397 non-null  datetime64[ns]\n",
      " 14  Recommendations            83397 non-null  int64         \n",
      " 15  Investors                  83397 non-null  int64         \n",
      "dtypes: datetime64[ns](1), float64(6), int64(6), object(3)\n",
      "memory usage: 10.8+ MB\n"
     ]
    },
    {
     "data": {
      "text/html": [
       "<div>\n",
       "<style scoped>\n",
       "    .dataframe tbody tr th:only-of-type {\n",
       "        vertical-align: middle;\n",
       "    }\n",
       "\n",
       "    .dataframe tbody tr th {\n",
       "        vertical-align: top;\n",
       "    }\n",
       "\n",
       "    .dataframe thead th {\n",
       "        text-align: right;\n",
       "    }\n",
       "</style>\n",
       "<table border=\"1\" class=\"dataframe\">\n",
       "  <thead>\n",
       "    <tr style=\"text-align: right;\">\n",
       "      <th></th>\n",
       "      <th>index</th>\n",
       "      <th>Term</th>\n",
       "      <th>BorrowerAPR</th>\n",
       "      <th>BorrowerRate</th>\n",
       "      <th>ProsperScore</th>\n",
       "      <th>ListingCategory (numeric)</th>\n",
       "      <th>DelinquenciesLast7Years</th>\n",
       "      <th>StatedMonthlyIncome</th>\n",
       "      <th>TotalProsperLoans</th>\n",
       "      <th>LoanOriginalAmount</th>\n",
       "      <th>Recommendations</th>\n",
       "      <th>Investors</th>\n",
       "    </tr>\n",
       "  </thead>\n",
       "  <tbody>\n",
       "    <tr>\n",
       "      <th>count</th>\n",
       "      <td>83397.000000</td>\n",
       "      <td>83397.000000</td>\n",
       "      <td>83397.000000</td>\n",
       "      <td>83397.000000</td>\n",
       "      <td>83397.000000</td>\n",
       "      <td>83397.000000</td>\n",
       "      <td>83397.000000</td>\n",
       "      <td>8.339700e+04</td>\n",
       "      <td>83397.000000</td>\n",
       "      <td>83397.000000</td>\n",
       "      <td>83397.000000</td>\n",
       "      <td>83397.000000</td>\n",
       "    </tr>\n",
       "    <tr>\n",
       "      <th>mean</th>\n",
       "      <td>56960.167068</td>\n",
       "      <td>42.482248</td>\n",
       "      <td>0.228663</td>\n",
       "      <td>0.197815</td>\n",
       "      <td>5.861902</td>\n",
       "      <td>3.316222</td>\n",
       "      <td>3.698634</td>\n",
       "      <td>5.880222e+03</td>\n",
       "      <td>0.329173</td>\n",
       "      <td>8982.621185</td>\n",
       "      <td>0.017291</td>\n",
       "      <td>67.810161</td>\n",
       "    </tr>\n",
       "    <tr>\n",
       "      <th>std</th>\n",
       "      <td>32903.815432</td>\n",
       "      <td>11.654919</td>\n",
       "      <td>0.079011</td>\n",
       "      <td>0.073931</td>\n",
       "      <td>2.300729</td>\n",
       "      <td>4.363780</td>\n",
       "      <td>9.396220</td>\n",
       "      <td>8.271991e+03</td>\n",
       "      <td>0.709997</td>\n",
       "      <td>6202.474999</td>\n",
       "      <td>0.187729</td>\n",
       "      <td>94.190355</td>\n",
       "    </tr>\n",
       "    <tr>\n",
       "      <th>min</th>\n",
       "      <td>1.000000</td>\n",
       "      <td>12.000000</td>\n",
       "      <td>0.045830</td>\n",
       "      <td>0.040000</td>\n",
       "      <td>1.000000</td>\n",
       "      <td>0.000000</td>\n",
       "      <td>0.000000</td>\n",
       "      <td>0.000000e+00</td>\n",
       "      <td>0.000000</td>\n",
       "      <td>1000.000000</td>\n",
       "      <td>0.000000</td>\n",
       "      <td>1.000000</td>\n",
       "    </tr>\n",
       "    <tr>\n",
       "      <th>25%</th>\n",
       "      <td>28472.000000</td>\n",
       "      <td>36.000000</td>\n",
       "      <td>0.167320</td>\n",
       "      <td>0.139600</td>\n",
       "      <td>4.000000</td>\n",
       "      <td>1.000000</td>\n",
       "      <td>0.000000</td>\n",
       "      <td>3.416667e+03</td>\n",
       "      <td>0.000000</td>\n",
       "      <td>4000.000000</td>\n",
       "      <td>0.000000</td>\n",
       "      <td>1.000000</td>\n",
       "    </tr>\n",
       "    <tr>\n",
       "      <th>50%</th>\n",
       "      <td>56969.000000</td>\n",
       "      <td>36.000000</td>\n",
       "      <td>0.221400</td>\n",
       "      <td>0.189900</td>\n",
       "      <td>6.000000</td>\n",
       "      <td>1.000000</td>\n",
       "      <td>0.000000</td>\n",
       "      <td>5.000000e+03</td>\n",
       "      <td>0.000000</td>\n",
       "      <td>7500.000000</td>\n",
       "      <td>0.000000</td>\n",
       "      <td>32.000000</td>\n",
       "    </tr>\n",
       "    <tr>\n",
       "      <th>75%</th>\n",
       "      <td>85473.000000</td>\n",
       "      <td>60.000000</td>\n",
       "      <td>0.293410</td>\n",
       "      <td>0.257900</td>\n",
       "      <td>8.000000</td>\n",
       "      <td>3.000000</td>\n",
       "      <td>2.000000</td>\n",
       "      <td>7.083333e+03</td>\n",
       "      <td>0.000000</td>\n",
       "      <td>13000.000000</td>\n",
       "      <td>0.000000</td>\n",
       "      <td>96.000000</td>\n",
       "    </tr>\n",
       "    <tr>\n",
       "      <th>max</th>\n",
       "      <td>113936.000000</td>\n",
       "      <td>60.000000</td>\n",
       "      <td>0.423950</td>\n",
       "      <td>0.360000</td>\n",
       "      <td>10.000000</td>\n",
       "      <td>20.000000</td>\n",
       "      <td>99.000000</td>\n",
       "      <td>1.750003e+06</td>\n",
       "      <td>8.000000</td>\n",
       "      <td>35000.000000</td>\n",
       "      <td>19.000000</td>\n",
       "      <td>1189.000000</td>\n",
       "    </tr>\n",
       "  </tbody>\n",
       "</table>\n",
       "</div>"
      ],
      "text/plain": [
       "               index          Term   BorrowerAPR  BorrowerRate  ProsperScore  \\\n",
       "count   83397.000000  83397.000000  83397.000000  83397.000000  83397.000000   \n",
       "mean    56960.167068     42.482248      0.228663      0.197815      5.861902   \n",
       "std     32903.815432     11.654919      0.079011      0.073931      2.300729   \n",
       "min         1.000000     12.000000      0.045830      0.040000      1.000000   \n",
       "25%     28472.000000     36.000000      0.167320      0.139600      4.000000   \n",
       "50%     56969.000000     36.000000      0.221400      0.189900      6.000000   \n",
       "75%     85473.000000     60.000000      0.293410      0.257900      8.000000   \n",
       "max    113936.000000     60.000000      0.423950      0.360000     10.000000   \n",
       "\n",
       "       ListingCategory (numeric)  DelinquenciesLast7Years  \\\n",
       "count               83397.000000             83397.000000   \n",
       "mean                    3.316222                 3.698634   \n",
       "std                     4.363780                 9.396220   \n",
       "min                     0.000000                 0.000000   \n",
       "25%                     1.000000                 0.000000   \n",
       "50%                     1.000000                 0.000000   \n",
       "75%                     3.000000                 2.000000   \n",
       "max                    20.000000                99.000000   \n",
       "\n",
       "       StatedMonthlyIncome  TotalProsperLoans  LoanOriginalAmount  \\\n",
       "count         8.339700e+04       83397.000000        83397.000000   \n",
       "mean          5.880222e+03           0.329173         8982.621185   \n",
       "std           8.271991e+03           0.709997         6202.474999   \n",
       "min           0.000000e+00           0.000000         1000.000000   \n",
       "25%           3.416667e+03           0.000000         4000.000000   \n",
       "50%           5.000000e+03           0.000000         7500.000000   \n",
       "75%           7.083333e+03           0.000000        13000.000000   \n",
       "max           1.750003e+06           8.000000        35000.000000   \n",
       "\n",
       "       Recommendations     Investors  \n",
       "count     83397.000000  83397.000000  \n",
       "mean          0.017291     67.810161  \n",
       "std           0.187729     94.190355  \n",
       "min           0.000000      1.000000  \n",
       "25%           0.000000      1.000000  \n",
       "50%           0.000000     32.000000  \n",
       "75%           0.000000     96.000000  \n",
       "max          19.000000   1189.000000  "
      ]
     },
     "execution_count": 5,
     "metadata": {},
     "output_type": "execute_result"
    }
   ],
   "source": [
    "#Just checking the data\n",
    "df2.head(3)\n",
    "df2.info()\n",
    "df2.describe()"
   ]
  },
  {
   "cell_type": "code",
   "execution_count": 6,
   "metadata": {
    "slideshow": {
     "slide_type": "skip"
    }
   },
   "outputs": [],
   "source": [
    "# Finally, i will convert prosper rating into ordered categorical type\n",
    "ordinal_var_dict = {'ProsperRating (Alpha)': ['HR','E','D','C','B','A','AA']}\n",
    "\n",
    "for var in ordinal_var_dict:\n",
    "    ordered_var = pd.api.types.CategoricalDtype(ordered = True,\n",
    "                                                categories = ordinal_var_dict[var])\n",
    "    df2[var] = df2[var].astype(ordered_var)"
   ]
  },
  {
   "cell_type": "markdown",
   "metadata": {
    "slideshow": {
     "slide_type": "notes"
    }
   },
   "source": [
    "> Note that the above cells have been set as \"Skip\"-type slides. That means\n",
    "that when the notebook is rendered as http slides, those cells won't show up."
   ]
  },
  {
   "cell_type": "markdown",
   "metadata": {
    "slideshow": {
     "slide_type": "slide"
    }
   },
   "source": [
    "## Loan Status\n",
    "\n",
    "Most of the featured loans are current loans. The loans that are past due are split into several buckets depending on the days past due. The loans that are completed also contribute a substantial proportion of total loans."
   ]
  },
  {
   "cell_type": "code",
   "execution_count": 7,
   "metadata": {
    "slideshow": {
     "slide_type": "subslide"
    }
   },
   "outputs": [
    {
     "data": {
      "image/png": "[encoded data removed]",
      "text/plain": [
       "<Figure size 432x288 with 1 Axes>"
      ]
     },
     "metadata": {
      "needs_background": "light"
     },
     "output_type": "display_data"
    }
   ],
   "source": [
    "#Setting the color\n",
    "base_color = sns.color_palette()[0]\n",
    "# Plot the loan status on a Horizontal bar chart\n",
    "loanstatus_order = df2['LoanStatus'].value_counts().index\n",
    "ax = sns.countplot(data = df2, y='LoanStatus', color = base_color, order = loanstatus_order)\n",
    "ax.set_title('Loan Status')\n",
    "ax.set_ylabel('Loan Status');"
   ]
  },
  {
   "cell_type": "code",
   "execution_count": 8,
   "metadata": {
    "slideshow": {
     "slide_type": "skip"
    }
   },
   "outputs": [
    {
     "data": {
      "text/plain": [
       "Completed    19633\n",
       "Defaulted     6340\n",
       "Name: LoanStatus, dtype: int64"
      ]
     },
     "execution_count": 8,
     "metadata": {},
     "output_type": "execute_result"
    }
   ],
   "source": [
    "#Preparing the loan status column\n",
    "condition = (df2['LoanStatus'] == 'Completed') | (df2['LoanStatus'] == 'Defaulted') |\\\n",
    "                  (df2['LoanStatus'] == 'Chargedoff')\n",
    "df2 = df2[condition]\n",
    "\n",
    "def change_to_defaulted(row):\n",
    "    if row['LoanStatus'] == 'Chargedoff':\n",
    "        return 'Defaulted'\n",
    "    else:\n",
    "        return row['LoanStatus']\n",
    "    \n",
    "df2['LoanStatus'] = df2.apply(change_to_defaulted, axis=1)\n",
    "df2['LoanStatus'].value_counts()"
   ]
  },
  {
   "cell_type": "markdown",
   "metadata": {
    "collapsed": true,
    "slideshow": {
     "slide_type": "slide"
    }
   },
   "source": [
    "## Loan status and Prosper rating\n",
    "\n",
    "Most of the defaulters have a lower rating compared to the borrowers who have completed paying off their loans."
   ]
  },
  {
   "cell_type": "code",
   "execution_count": 9,
   "metadata": {
    "slideshow": {
     "slide_type": "subslide"
    }
   },
   "outputs": [
    {
     "data": {
      "image/png": "[encoded data removed]",
      "text/plain": [
       "<Figure size 432x288 with 1 Axes>"
      ]
     },
     "metadata": {
      "needs_background": "light"
     },
     "output_type": "display_data"
    }
   ],
   "source": [
    "ax = sns.countplot(data = df2, x = 'LoanStatus', hue = 'ProsperRating (Alpha)', palette = 'Reds')\n",
    "ax.set_title('Loan Status and Prosper Rating')\n",
    "ax.set_xlabel('Loan Status');"
   ]
  },
  {
   "cell_type": "markdown",
   "metadata": {
    "slideshow": {
     "slide_type": "slide"
    }
   },
   "source": [
    "## Loan Status and Prosper Score\n",
    "\n",
    "The defaulters have lower prosper scores whereas the ones who have completed their loans have higher scores.\n"
   ]
  },
  {
   "cell_type": "code",
   "execution_count": 10,
   "metadata": {
    "slideshow": {
     "slide_type": "subslide"
    }
   },
   "outputs": [
    {
     "data": {
      "image/png": "[encoded data removed]",
      "text/plain": [
       "<Figure size 432x288 with 1 Axes>"
      ]
     },
     "metadata": {
      "needs_background": "light"
     },
     "output_type": "display_data"
    }
   ],
   "source": [
    "ax = sns.countplot(data = df2, x = 'LoanStatus', hue = 'ProsperScore', palette = 'Blues')\n",
    "ax.set_title('Loan Status and Prosper Score')\n",
    "ax.set_xlabel('Loan Status');"
   ]
  },
  {
   "cell_type": "markdown",
   "metadata": {
    "slideshow": {
     "slide_type": "slide"
    }
   },
   "source": [
    "## Loan Status and Employment status\n",
    "\n",
    "Comparing both the defaulters and the ones who have completed, we see that majority of them are employed irrespective of the loan status.\n"
   ]
  },
  {
   "cell_type": "code",
   "execution_count": 11,
   "metadata": {
    "slideshow": {
     "slide_type": "subslide"
    }
   },
   "outputs": [
    {
     "data": {
      "image/png": "[encoded data removed]",
      "text/plain": [
       "<Figure size 432x288 with 1 Axes>"
      ]
     },
     "metadata": {
      "needs_background": "light"
     },
     "output_type": "display_data"
    }
   ],
   "source": [
    "ax = sns.countplot(data = df2, x = 'LoanStatus', hue = 'EmploymentStatus', palette = 'Greens')\n",
    "ax.set_title('Loan Status and Employment Status')\n",
    "ax.set_xlabel('Loan Status');"
   ]
  },
  {
   "cell_type": "markdown",
   "metadata": {
    "slideshow": {
     "slide_type": "slide"
    }
   },
   "source": [
    "## Prosper rating, loan amount and loan status\n",
    "\n",
    "Majority of the defaulters have lower prosper ratings and the original loan amounts involved are higher compared to the category of borrowers who have completed paying off their loans."
   ]
  },
  {
   "cell_type": "code",
   "execution_count": 12,
   "metadata": {
    "slideshow": {
     "slide_type": "subslide"
    }
   },
   "outputs": [
    {
     "data": {
      "image/png": "[encoded data removed]",
      "text/plain": [
       "<Figure size 864x576 with 1 Axes>"
      ]
     },
     "metadata": {
      "needs_background": "light"
     },
     "output_type": "display_data"
    }
   ],
   "source": [
    "plt.figure(figsize = [12, 8])\n",
    "ax = sns.boxplot(data=df2, x='ProsperRating (Alpha)', y='LoanOriginalAmount', hue='LoanStatus')\n",
    "ax.set_title('Prosper rating, loan status and original loan amount')\n",
    "ax.set_xlabel('Prosper rating');"
   ]
  },
  {
   "cell_type": "code",
   "execution_count": 14,
   "metadata": {
    "slideshow": {
     "slide_type": "skip"
    }
   },
   "outputs": [
    {
     "name": "stderr",
     "output_type": "stream",
     "text": [
      "[NbConvertApp] Converting notebook slide_deck_template.ipynb to slides\n",
      "[NbConvertApp] Writing 679977 bytes to slide_deck_template.slides.html\n"
     ]
    }
   ],
   "source": [
    "!jupyter nbconvert slide_deck_template.ipynb --to slides --no-input --no-prompt"
   ]
  },
  {
   "cell_type": "code",
   "execution_count": null,
   "metadata": {},
   "outputs": [],
   "source": []
  }
 ],
 "metadata": {
  "celltoolbar": "Slideshow",
  "kernelspec": {
   "display_name": "Python 3",
   "language": "python",
   "name": "python3"
  },
  "language_info": {
   "codemirror_mode": {
    "name": "ipython",
    "version": 3
   },
   "file_extension": ".py",
   "mimetype": "text/x-python",
   "name": "python",
   "nbconvert_exporter": "python",
   "pygments_lexer": "ipython3",
   "version": "3.8.5"
  }
 },
 "nbformat": 4,
 "nbformat_minor": 2
}
