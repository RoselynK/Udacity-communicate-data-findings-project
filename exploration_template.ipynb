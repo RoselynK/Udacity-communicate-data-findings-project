{
 "cells": [
  {
   "cell_type": "markdown",
   "metadata": {},
   "source": [
    "# Prosper Loan Data Exploration\n",
    "## by Roselyn N. Kinuthia"
   ]
  },
  {
   "cell_type": "markdown",
   "metadata": {},
   "source": [
    "## Preliminary Wrangling\n",
    "\n",
    "This data set contains information on peer to peer loans facilitated by the credit company Prosper. I chose this dataset because I have been involved in credit scoring projects both in my current role and my previous roles."
   ]
  },
  {
   "cell_type": "code",
   "execution_count": 1,
   "metadata": {},
   "outputs": [],
   "source": [
    "# import all packages and set plots to be embedded inline\n",
    "import numpy as np\n",
    "import pandas as pd\n",
    "import matplotlib.pyplot as plt\n",
    "#import seaborn as sb\n",
    "import seaborn as sns\n",
    "\n",
    "%matplotlib inline\n",
    "\n",
    "# suppress warnings from final output\n",
    "import warnings\n",
    "warnings.simplefilter(\"ignore\")"
   ]
  },
  {
   "cell_type": "code",
   "execution_count": 2,
   "metadata": {},
   "outputs": [
    {
     "data": {
      "text/html": [
       "<div>\n",
       "<style scoped>\n",
       "    .dataframe tbody tr th:only-of-type {\n",
       "        vertical-align: middle;\n",
       "    }\n",
       "\n",
       "    .dataframe tbody tr th {\n",
       "        vertical-align: top;\n",
       "    }\n",
       "\n",
       "    .dataframe thead th {\n",
       "        text-align: right;\n",
       "    }\n",
       "</style>\n",
       "<table border=\"1\" class=\"dataframe\">\n",
       "  <thead>\n",
       "    <tr style=\"text-align: right;\">\n",
       "      <th></th>\n",
       "      <th>ListingKey</th>\n",
       "      <th>ListingNumber</th>\n",
       "      <th>ListingCreationDate</th>\n",
       "      <th>CreditGrade</th>\n",
       "      <th>Term</th>\n",
       "      <th>LoanStatus</th>\n",
       "      <th>ClosedDate</th>\n",
       "      <th>BorrowerAPR</th>\n",
       "      <th>BorrowerRate</th>\n",
       "      <th>LenderYield</th>\n",
       "      <th>...</th>\n",
       "      <th>LP_ServiceFees</th>\n",
       "      <th>LP_CollectionFees</th>\n",
       "      <th>LP_GrossPrincipalLoss</th>\n",
       "      <th>LP_NetPrincipalLoss</th>\n",
       "      <th>LP_NonPrincipalRecoverypayments</th>\n",
       "      <th>PercentFunded</th>\n",
       "      <th>Recommendations</th>\n",
       "      <th>InvestmentFromFriendsCount</th>\n",
       "      <th>InvestmentFromFriendsAmount</th>\n",
       "      <th>Investors</th>\n",
       "    </tr>\n",
       "  </thead>\n",
       "  <tbody>\n",
       "    <tr>\n",
       "      <th>0</th>\n",
       "      <td>1021339766868145413AB3B</td>\n",
       "      <td>193129</td>\n",
       "      <td>2007-08-26 19:09:29.263000000</td>\n",
       "      <td>C</td>\n",
       "      <td>36</td>\n",
       "      <td>Completed</td>\n",
       "      <td>2009-08-14 00:00:00</td>\n",
       "      <td>0.16516</td>\n",
       "      <td>0.1580</td>\n",
       "      <td>0.1380</td>\n",
       "      <td>...</td>\n",
       "      <td>-133.18</td>\n",
       "      <td>0.0</td>\n",
       "      <td>0.0</td>\n",
       "      <td>0.0</td>\n",
       "      <td>0.0</td>\n",
       "      <td>1.0</td>\n",
       "      <td>0</td>\n",
       "      <td>0</td>\n",
       "      <td>0.0</td>\n",
       "      <td>258</td>\n",
       "    </tr>\n",
       "    <tr>\n",
       "      <th>1</th>\n",
       "      <td>10273602499503308B223C1</td>\n",
       "      <td>1209647</td>\n",
       "      <td>2014-02-27 08:28:07.900000000</td>\n",
       "      <td>NaN</td>\n",
       "      <td>36</td>\n",
       "      <td>Current</td>\n",
       "      <td>NaN</td>\n",
       "      <td>0.12016</td>\n",
       "      <td>0.0920</td>\n",
       "      <td>0.0820</td>\n",
       "      <td>...</td>\n",
       "      <td>0.00</td>\n",
       "      <td>0.0</td>\n",
       "      <td>0.0</td>\n",
       "      <td>0.0</td>\n",
       "      <td>0.0</td>\n",
       "      <td>1.0</td>\n",
       "      <td>0</td>\n",
       "      <td>0</td>\n",
       "      <td>0.0</td>\n",
       "      <td>1</td>\n",
       "    </tr>\n",
       "    <tr>\n",
       "      <th>2</th>\n",
       "      <td>0EE9337825851032864889A</td>\n",
       "      <td>81716</td>\n",
       "      <td>2007-01-05 15:00:47.090000000</td>\n",
       "      <td>HR</td>\n",
       "      <td>36</td>\n",
       "      <td>Completed</td>\n",
       "      <td>2009-12-17 00:00:00</td>\n",
       "      <td>0.28269</td>\n",
       "      <td>0.2750</td>\n",
       "      <td>0.2400</td>\n",
       "      <td>...</td>\n",
       "      <td>-24.20</td>\n",
       "      <td>0.0</td>\n",
       "      <td>0.0</td>\n",
       "      <td>0.0</td>\n",
       "      <td>0.0</td>\n",
       "      <td>1.0</td>\n",
       "      <td>0</td>\n",
       "      <td>0</td>\n",
       "      <td>0.0</td>\n",
       "      <td>41</td>\n",
       "    </tr>\n",
       "    <tr>\n",
       "      <th>3</th>\n",
       "      <td>0EF5356002482715299901A</td>\n",
       "      <td>658116</td>\n",
       "      <td>2012-10-22 11:02:35.010000000</td>\n",
       "      <td>NaN</td>\n",
       "      <td>36</td>\n",
       "      <td>Current</td>\n",
       "      <td>NaN</td>\n",
       "      <td>0.12528</td>\n",
       "      <td>0.0974</td>\n",
       "      <td>0.0874</td>\n",
       "      <td>...</td>\n",
       "      <td>-108.01</td>\n",
       "      <td>0.0</td>\n",
       "      <td>0.0</td>\n",
       "      <td>0.0</td>\n",
       "      <td>0.0</td>\n",
       "      <td>1.0</td>\n",
       "      <td>0</td>\n",
       "      <td>0</td>\n",
       "      <td>0.0</td>\n",
       "      <td>158</td>\n",
       "    </tr>\n",
       "    <tr>\n",
       "      <th>4</th>\n",
       "      <td>0F023589499656230C5E3E2</td>\n",
       "      <td>909464</td>\n",
       "      <td>2013-09-14 18:38:39.097000000</td>\n",
       "      <td>NaN</td>\n",
       "      <td>36</td>\n",
       "      <td>Current</td>\n",
       "      <td>NaN</td>\n",
       "      <td>0.24614</td>\n",
       "      <td>0.2085</td>\n",
       "      <td>0.1985</td>\n",
       "      <td>...</td>\n",
       "      <td>-60.27</td>\n",
       "      <td>0.0</td>\n",
       "      <td>0.0</td>\n",
       "      <td>0.0</td>\n",
       "      <td>0.0</td>\n",
       "      <td>1.0</td>\n",
       "      <td>0</td>\n",
       "      <td>0</td>\n",
       "      <td>0.0</td>\n",
       "      <td>20</td>\n",
       "    </tr>\n",
       "  </tbody>\n",
       "</table>\n",
       "<p>5 rows × 81 columns</p>\n",
       "</div>"
      ],
      "text/plain": [
       "                ListingKey  ListingNumber            ListingCreationDate  \\\n",
       "0  1021339766868145413AB3B         193129  2007-08-26 19:09:29.263000000   \n",
       "1  10273602499503308B223C1        1209647  2014-02-27 08:28:07.900000000   \n",
       "2  0EE9337825851032864889A          81716  2007-01-05 15:00:47.090000000   \n",
       "3  0EF5356002482715299901A         658116  2012-10-22 11:02:35.010000000   \n",
       "4  0F023589499656230C5E3E2         909464  2013-09-14 18:38:39.097000000   \n",
       "\n",
       "  CreditGrade  Term LoanStatus           ClosedDate  BorrowerAPR  \\\n",
       "0           C    36  Completed  2009-08-14 00:00:00      0.16516   \n",
       "1         NaN    36    Current                  NaN      0.12016   \n",
       "2          HR    36  Completed  2009-12-17 00:00:00      0.28269   \n",
       "3         NaN    36    Current                  NaN      0.12528   \n",
       "4         NaN    36    Current                  NaN      0.24614   \n",
       "\n",
       "   BorrowerRate  LenderYield  ...  LP_ServiceFees  LP_CollectionFees  \\\n",
       "0        0.1580       0.1380  ...         -133.18                0.0   \n",
       "1        0.0920       0.0820  ...            0.00                0.0   \n",
       "2        0.2750       0.2400  ...          -24.20                0.0   \n",
       "3        0.0974       0.0874  ...         -108.01                0.0   \n",
       "4        0.2085       0.1985  ...          -60.27                0.0   \n",
       "\n",
       "   LP_GrossPrincipalLoss  LP_NetPrincipalLoss LP_NonPrincipalRecoverypayments  \\\n",
       "0                    0.0                  0.0                             0.0   \n",
       "1                    0.0                  0.0                             0.0   \n",
       "2                    0.0                  0.0                             0.0   \n",
       "3                    0.0                  0.0                             0.0   \n",
       "4                    0.0                  0.0                             0.0   \n",
       "\n",
       "   PercentFunded  Recommendations InvestmentFromFriendsCount  \\\n",
       "0            1.0                0                          0   \n",
       "1            1.0                0                          0   \n",
       "2            1.0                0                          0   \n",
       "3            1.0                0                          0   \n",
       "4            1.0                0                          0   \n",
       "\n",
       "  InvestmentFromFriendsAmount Investors  \n",
       "0                         0.0       258  \n",
       "1                         0.0         1  \n",
       "2                         0.0        41  \n",
       "3                         0.0       158  \n",
       "4                         0.0        20  \n",
       "\n",
       "[5 rows x 81 columns]"
      ]
     },
     "execution_count": 2,
     "metadata": {},
     "output_type": "execute_result"
    }
   ],
   "source": [
    "#Loading my dataset\n",
    "df = pd.read_csv('prosperLoanData.csv')\n",
    "df.head()"
   ]
  },
  {
   "cell_type": "code",
   "execution_count": 3,
   "metadata": {},
   "outputs": [
    {
     "name": "stdout",
     "output_type": "stream",
     "text": [
      "(113937, 81)\n",
      "ListingKey                      object\n",
      "ListingNumber                    int64\n",
      "ListingCreationDate             object\n",
      "CreditGrade                     object\n",
      "Term                             int64\n",
      "                                ...   \n",
      "PercentFunded                  float64\n",
      "Recommendations                  int64\n",
      "InvestmentFromFriendsCount       int64\n",
      "InvestmentFromFriendsAmount    float64\n",
      "Investors                        int64\n",
      "Length: 81, dtype: object\n"
     ]
    }
   ],
   "source": [
    "#Check out the high-level overview of data shape and composition\n",
    "print(df.shape)\n",
    "print(df.dtypes)"
   ]
  },
  {
   "cell_type": "code",
   "execution_count": 4,
   "metadata": {},
   "outputs": [
    {
     "name": "stdout",
     "output_type": "stream",
     "text": [
      "       ListingNumber           Term    BorrowerAPR   BorrowerRate  \\\n",
      "count   1.139370e+05  113937.000000  113912.000000  113937.000000   \n",
      "mean    6.278857e+05      40.830248       0.218828       0.192764   \n",
      "std     3.280762e+05      10.436212       0.080364       0.074818   \n",
      "min     4.000000e+00      12.000000       0.006530       0.000000   \n",
      "25%     4.009190e+05      36.000000       0.156290       0.134000   \n",
      "50%     6.005540e+05      36.000000       0.209760       0.184000   \n",
      "75%     8.926340e+05      36.000000       0.283810       0.250000   \n",
      "max     1.255725e+06      60.000000       0.512290       0.497500   \n",
      "\n",
      "         LenderYield  EstimatedEffectiveYield  EstimatedLoss  EstimatedReturn  \\\n",
      "count  113937.000000             84853.000000   84853.000000     84853.000000   \n",
      "mean        0.182701                 0.168661       0.080306         0.096068   \n",
      "std         0.074516                 0.068467       0.046764         0.030403   \n",
      "min        -0.010000                -0.182700       0.004900        -0.182700   \n",
      "25%         0.124200                 0.115670       0.042400         0.074080   \n",
      "50%         0.173000                 0.161500       0.072400         0.091700   \n",
      "75%         0.240000                 0.224300       0.112000         0.116600   \n",
      "max         0.492500                 0.319900       0.366000         0.283700   \n",
      "\n",
      "       ProsperRating (numeric)  ProsperScore  ...  LP_ServiceFees  \\\n",
      "count             84853.000000  84853.000000  ...   113937.000000   \n",
      "mean                  4.072243      5.950067  ...      -54.725641   \n",
      "std                   1.673227      2.376501  ...       60.675425   \n",
      "min                   1.000000      1.000000  ...     -664.870000   \n",
      "25%                   3.000000      4.000000  ...      -73.180000   \n",
      "50%                   4.000000      6.000000  ...      -34.440000   \n",
      "75%                   5.000000      8.000000  ...      -13.920000   \n",
      "max                   7.000000     11.000000  ...       32.060000   \n",
      "\n",
      "       LP_CollectionFees  LP_GrossPrincipalLoss  LP_NetPrincipalLoss  \\\n",
      "count      113937.000000          113937.000000        113937.000000   \n",
      "mean          -14.242698             700.446342           681.420499   \n",
      "std           109.232758            2388.513831          2357.167068   \n",
      "min         -9274.750000             -94.200000          -954.550000   \n",
      "25%             0.000000               0.000000             0.000000   \n",
      "50%             0.000000               0.000000             0.000000   \n",
      "75%             0.000000               0.000000             0.000000   \n",
      "max             0.000000           25000.000000         25000.000000   \n",
      "\n",
      "       LP_NonPrincipalRecoverypayments  PercentFunded  Recommendations  \\\n",
      "count                    113937.000000  113937.000000    113937.000000   \n",
      "mean                         25.142686       0.998584         0.048027   \n",
      "std                         275.657937       0.017919         0.332353   \n",
      "min                           0.000000       0.700000         0.000000   \n",
      "25%                           0.000000       1.000000         0.000000   \n",
      "50%                           0.000000       1.000000         0.000000   \n",
      "75%                           0.000000       1.000000         0.000000   \n",
      "max                       21117.900000       1.012500        39.000000   \n",
      "\n",
      "       InvestmentFromFriendsCount  InvestmentFromFriendsAmount      Investors  \n",
      "count               113937.000000                113937.000000  113937.000000  \n",
      "mean                     0.023460                    16.550751      80.475228  \n",
      "std                      0.232412                   294.545422     103.239020  \n",
      "min                      0.000000                     0.000000       1.000000  \n",
      "25%                      0.000000                     0.000000       2.000000  \n",
      "50%                      0.000000                     0.000000      44.000000  \n",
      "75%                      0.000000                     0.000000     115.000000  \n",
      "max                     33.000000                 25000.000000    1189.000000  \n",
      "\n",
      "[8 rows x 61 columns]\n"
     ]
    }
   ],
   "source": [
    "#Descriptive statistics for numeric variables\n",
    "print(df.describe())"
   ]
  },
  {
   "cell_type": "code",
   "execution_count": 5,
   "metadata": {},
   "outputs": [
    {
     "name": "stdout",
     "output_type": "stream",
     "text": [
      "<class 'pandas.core.frame.DataFrame'>\n",
      "RangeIndex: 113937 entries, 0 to 113936\n",
      "Data columns (total 81 columns):\n",
      " #   Column                               Non-Null Count   Dtype  \n",
      "---  ------                               --------------   -----  \n",
      " 0   ListingKey                           113937 non-null  object \n",
      " 1   ListingNumber                        113937 non-null  int64  \n",
      " 2   ListingCreationDate                  113937 non-null  object \n",
      " 3   CreditGrade                          28953 non-null   object \n",
      " 4   Term                                 113937 non-null  int64  \n",
      " 5   LoanStatus                           113937 non-null  object \n",
      " 6   ClosedDate                           55089 non-null   object \n",
      " 7   BorrowerAPR                          113912 non-null  float64\n",
      " 8   BorrowerRate                         113937 non-null  float64\n",
      " 9   LenderYield                          113937 non-null  float64\n",
      " 10  EstimatedEffectiveYield              84853 non-null   float64\n",
      " 11  EstimatedLoss                        84853 non-null   float64\n",
      " 12  EstimatedReturn                      84853 non-null   float64\n",
      " 13  ProsperRating (numeric)              84853 non-null   float64\n",
      " 14  ProsperRating (Alpha)                84853 non-null   object \n",
      " 15  ProsperScore                         84853 non-null   float64\n",
      " 16  ListingCategory (numeric)            113937 non-null  int64  \n",
      " 17  BorrowerState                        108422 non-null  object \n",
      " 18  Occupation                           110349 non-null  object \n",
      " 19  EmploymentStatus                     111682 non-null  object \n",
      " 20  EmploymentStatusDuration             106312 non-null  float64\n",
      " 21  IsBorrowerHomeowner                  113937 non-null  bool   \n",
      " 22  CurrentlyInGroup                     113937 non-null  bool   \n",
      " 23  GroupKey                             13341 non-null   object \n",
      " 24  DateCreditPulled                     113937 non-null  object \n",
      " 25  CreditScoreRangeLower                113346 non-null  float64\n",
      " 26  CreditScoreRangeUpper                113346 non-null  float64\n",
      " 27  FirstRecordedCreditLine              113240 non-null  object \n",
      " 28  CurrentCreditLines                   106333 non-null  float64\n",
      " 29  OpenCreditLines                      106333 non-null  float64\n",
      " 30  TotalCreditLinespast7years           113240 non-null  float64\n",
      " 31  OpenRevolvingAccounts                113937 non-null  int64  \n",
      " 32  OpenRevolvingMonthlyPayment          113937 non-null  float64\n",
      " 33  InquiriesLast6Months                 113240 non-null  float64\n",
      " 34  TotalInquiries                       112778 non-null  float64\n",
      " 35  CurrentDelinquencies                 113240 non-null  float64\n",
      " 36  AmountDelinquent                     106315 non-null  float64\n",
      " 37  DelinquenciesLast7Years              112947 non-null  float64\n",
      " 38  PublicRecordsLast10Years             113240 non-null  float64\n",
      " 39  PublicRecordsLast12Months            106333 non-null  float64\n",
      " 40  RevolvingCreditBalance               106333 non-null  float64\n",
      " 41  BankcardUtilization                  106333 non-null  float64\n",
      " 42  AvailableBankcardCredit              106393 non-null  float64\n",
      " 43  TotalTrades                          106393 non-null  float64\n",
      " 44  TradesNeverDelinquent (percentage)   106393 non-null  float64\n",
      " 45  TradesOpenedLast6Months              106393 non-null  float64\n",
      " 46  DebtToIncomeRatio                    105383 non-null  float64\n",
      " 47  IncomeRange                          113937 non-null  object \n",
      " 48  IncomeVerifiable                     113937 non-null  bool   \n",
      " 49  StatedMonthlyIncome                  113937 non-null  float64\n",
      " 50  LoanKey                              113937 non-null  object \n",
      " 51  TotalProsperLoans                    22085 non-null   float64\n",
      " 52  TotalProsperPaymentsBilled           22085 non-null   float64\n",
      " 53  OnTimeProsperPayments                22085 non-null   float64\n",
      " 54  ProsperPaymentsLessThanOneMonthLate  22085 non-null   float64\n",
      " 55  ProsperPaymentsOneMonthPlusLate      22085 non-null   float64\n",
      " 56  ProsperPrincipalBorrowed             22085 non-null   float64\n",
      " 57  ProsperPrincipalOutstanding          22085 non-null   float64\n",
      " 58  ScorexChangeAtTimeOfListing          18928 non-null   float64\n",
      " 59  LoanCurrentDaysDelinquent            113937 non-null  int64  \n",
      " 60  LoanFirstDefaultedCycleNumber        16952 non-null   float64\n",
      " 61  LoanMonthsSinceOrigination           113937 non-null  int64  \n",
      " 62  LoanNumber                           113937 non-null  int64  \n",
      " 63  LoanOriginalAmount                   113937 non-null  int64  \n",
      " 64  LoanOriginationDate                  113937 non-null  object \n",
      " 65  LoanOriginationQuarter               113937 non-null  object \n",
      " 66  MemberKey                            113937 non-null  object \n",
      " 67  MonthlyLoanPayment                   113937 non-null  float64\n",
      " 68  LP_CustomerPayments                  113937 non-null  float64\n",
      " 69  LP_CustomerPrincipalPayments         113937 non-null  float64\n",
      " 70  LP_InterestandFees                   113937 non-null  float64\n",
      " 71  LP_ServiceFees                       113937 non-null  float64\n",
      " 72  LP_CollectionFees                    113937 non-null  float64\n",
      " 73  LP_GrossPrincipalLoss                113937 non-null  float64\n",
      " 74  LP_NetPrincipalLoss                  113937 non-null  float64\n",
      " 75  LP_NonPrincipalRecoverypayments      113937 non-null  float64\n",
      " 76  PercentFunded                        113937 non-null  float64\n",
      " 77  Recommendations                      113937 non-null  int64  \n",
      " 78  InvestmentFromFriendsCount           113937 non-null  int64  \n",
      " 79  InvestmentFromFriendsAmount          113937 non-null  float64\n",
      " 80  Investors                            113937 non-null  int64  \n",
      "dtypes: bool(3), float64(50), int64(11), object(17)\n",
      "memory usage: 68.1+ MB\n"
     ]
    }
   ],
   "source": [
    "#Info\n",
    "df.info()"
   ]
  },
  {
   "cell_type": "markdown",
   "metadata": {},
   "source": [
    "This dataset has 113,937 records and 81 columns. The number of columns is to high to do a proper exploration. Therefore, I am going to select a few columns that I will proceed with. I will explore these few columns and see what I will discover."
   ]
  },
  {
   "cell_type": "code",
   "execution_count": 6,
   "metadata": {},
   "outputs": [],
   "source": [
    "selected_target_columns =  [\n",
    "    'Term', 'LoanStatus', 'BorrowerAPR', 'BorrowerRate', 'ProsperRating (Alpha)', 'ProsperScore', 'ListingCategory (numeric)','EmploymentStatus',\n",
    "    'DelinquenciesLast7Years', 'StatedMonthlyIncome', 'TotalProsperLoans', 'LoanOriginalAmount',\n",
    "    'LoanOriginationDate', 'Recommendations', 'Investors'\n",
    "]"
   ]
  },
  {
   "cell_type": "code",
   "execution_count": 7,
   "metadata": {},
   "outputs": [],
   "source": [
    "\n",
    "df2 = df[selected_target_columns]"
   ]
  },
  {
   "cell_type": "code",
   "execution_count": 8,
   "metadata": {},
   "outputs": [
    {
     "data": {
      "text/html": [
       "<div>\n",
       "<style scoped>\n",
       "    .dataframe tbody tr th:only-of-type {\n",
       "        vertical-align: middle;\n",
       "    }\n",
       "\n",
       "    .dataframe tbody tr th {\n",
       "        vertical-align: top;\n",
       "    }\n",
       "\n",
       "    .dataframe thead th {\n",
       "        text-align: right;\n",
       "    }\n",
       "</style>\n",
       "<table border=\"1\" class=\"dataframe\">\n",
       "  <thead>\n",
       "    <tr style=\"text-align: right;\">\n",
       "      <th></th>\n",
       "      <th>Term</th>\n",
       "      <th>LoanStatus</th>\n",
       "      <th>BorrowerAPR</th>\n",
       "      <th>BorrowerRate</th>\n",
       "      <th>ProsperRating (Alpha)</th>\n",
       "      <th>ProsperScore</th>\n",
       "      <th>ListingCategory (numeric)</th>\n",
       "      <th>EmploymentStatus</th>\n",
       "      <th>DelinquenciesLast7Years</th>\n",
       "      <th>StatedMonthlyIncome</th>\n",
       "      <th>TotalProsperLoans</th>\n",
       "      <th>LoanOriginalAmount</th>\n",
       "      <th>LoanOriginationDate</th>\n",
       "      <th>Recommendations</th>\n",
       "      <th>Investors</th>\n",
       "    </tr>\n",
       "  </thead>\n",
       "  <tbody>\n",
       "    <tr>\n",
       "      <th>66721</th>\n",
       "      <td>36</td>\n",
       "      <td>Completed</td>\n",
       "      <td>0.15904</td>\n",
       "      <td>0.1375</td>\n",
       "      <td>B</td>\n",
       "      <td>8.0</td>\n",
       "      <td>5</td>\n",
       "      <td>Full-time</td>\n",
       "      <td>3.0</td>\n",
       "      <td>5666.666667</td>\n",
       "      <td>1.0</td>\n",
       "      <td>4700</td>\n",
       "      <td>2010-06-29 00:00:00</td>\n",
       "      <td>0</td>\n",
       "      <td>183</td>\n",
       "    </tr>\n",
       "    <tr>\n",
       "      <th>31540</th>\n",
       "      <td>36</td>\n",
       "      <td>Current</td>\n",
       "      <td>0.19236</td>\n",
       "      <td>0.1559</td>\n",
       "      <td>B</td>\n",
       "      <td>6.0</td>\n",
       "      <td>1</td>\n",
       "      <td>Other</td>\n",
       "      <td>0.0</td>\n",
       "      <td>5416.666667</td>\n",
       "      <td>NaN</td>\n",
       "      <td>8000</td>\n",
       "      <td>2013-04-22 00:00:00</td>\n",
       "      <td>0</td>\n",
       "      <td>1</td>\n",
       "    </tr>\n",
       "    <tr>\n",
       "      <th>94548</th>\n",
       "      <td>36</td>\n",
       "      <td>Current</td>\n",
       "      <td>0.22773</td>\n",
       "      <td>0.1905</td>\n",
       "      <td>C</td>\n",
       "      <td>3.0</td>\n",
       "      <td>3</td>\n",
       "      <td>Employed</td>\n",
       "      <td>0.0</td>\n",
       "      <td>5000.000000</td>\n",
       "      <td>NaN</td>\n",
       "      <td>15000</td>\n",
       "      <td>2014-02-10 00:00:00</td>\n",
       "      <td>0</td>\n",
       "      <td>1</td>\n",
       "    </tr>\n",
       "    <tr>\n",
       "      <th>54669</th>\n",
       "      <td>36</td>\n",
       "      <td>Completed</td>\n",
       "      <td>0.12503</td>\n",
       "      <td>0.1110</td>\n",
       "      <td>NaN</td>\n",
       "      <td>NaN</td>\n",
       "      <td>1</td>\n",
       "      <td>Full-time</td>\n",
       "      <td>0.0</td>\n",
       "      <td>3833.333333</td>\n",
       "      <td>NaN</td>\n",
       "      <td>10000</td>\n",
       "      <td>2008-06-24 00:00:00</td>\n",
       "      <td>0</td>\n",
       "      <td>279</td>\n",
       "    </tr>\n",
       "    <tr>\n",
       "      <th>19171</th>\n",
       "      <td>36</td>\n",
       "      <td>Completed</td>\n",
       "      <td>0.20182</td>\n",
       "      <td>0.1945</td>\n",
       "      <td>NaN</td>\n",
       "      <td>NaN</td>\n",
       "      <td>0</td>\n",
       "      <td>Full-time</td>\n",
       "      <td>0.0</td>\n",
       "      <td>5403.666667</td>\n",
       "      <td>NaN</td>\n",
       "      <td>12200</td>\n",
       "      <td>2007-03-06 00:00:00</td>\n",
       "      <td>0</td>\n",
       "      <td>173</td>\n",
       "    </tr>\n",
       "    <tr>\n",
       "      <th>38310</th>\n",
       "      <td>36</td>\n",
       "      <td>Completed</td>\n",
       "      <td>0.16386</td>\n",
       "      <td>0.1495</td>\n",
       "      <td>NaN</td>\n",
       "      <td>NaN</td>\n",
       "      <td>4</td>\n",
       "      <td>Full-time</td>\n",
       "      <td>0.0</td>\n",
       "      <td>7833.333333</td>\n",
       "      <td>NaN</td>\n",
       "      <td>2000</td>\n",
       "      <td>2008-05-14 00:00:00</td>\n",
       "      <td>0</td>\n",
       "      <td>16</td>\n",
       "    </tr>\n",
       "    <tr>\n",
       "      <th>26202</th>\n",
       "      <td>36</td>\n",
       "      <td>Chargedoff</td>\n",
       "      <td>0.26954</td>\n",
       "      <td>0.2600</td>\n",
       "      <td>NaN</td>\n",
       "      <td>NaN</td>\n",
       "      <td>0</td>\n",
       "      <td>Not available</td>\n",
       "      <td>0.0</td>\n",
       "      <td>2666.666667</td>\n",
       "      <td>NaN</td>\n",
       "      <td>2000</td>\n",
       "      <td>2006-11-24 00:00:00</td>\n",
       "      <td>0</td>\n",
       "      <td>32</td>\n",
       "    </tr>\n",
       "    <tr>\n",
       "      <th>29739</th>\n",
       "      <td>60</td>\n",
       "      <td>Past Due (16-30 days)</td>\n",
       "      <td>0.22262</td>\n",
       "      <td>0.1982</td>\n",
       "      <td>B</td>\n",
       "      <td>6.0</td>\n",
       "      <td>1</td>\n",
       "      <td>Employed</td>\n",
       "      <td>0.0</td>\n",
       "      <td>1333.333333</td>\n",
       "      <td>NaN</td>\n",
       "      <td>15000</td>\n",
       "      <td>2012-12-19 00:00:00</td>\n",
       "      <td>0</td>\n",
       "      <td>179</td>\n",
       "    </tr>\n",
       "    <tr>\n",
       "      <th>99646</th>\n",
       "      <td>36</td>\n",
       "      <td>Completed</td>\n",
       "      <td>0.17142</td>\n",
       "      <td>0.1570</td>\n",
       "      <td>NaN</td>\n",
       "      <td>NaN</td>\n",
       "      <td>1</td>\n",
       "      <td>Self-employed</td>\n",
       "      <td>0.0</td>\n",
       "      <td>2916.666667</td>\n",
       "      <td>NaN</td>\n",
       "      <td>7000</td>\n",
       "      <td>2008-10-09 00:00:00</td>\n",
       "      <td>0</td>\n",
       "      <td>210</td>\n",
       "    </tr>\n",
       "    <tr>\n",
       "      <th>17414</th>\n",
       "      <td>60</td>\n",
       "      <td>Current</td>\n",
       "      <td>0.16499</td>\n",
       "      <td>0.1419</td>\n",
       "      <td>B</td>\n",
       "      <td>6.0</td>\n",
       "      <td>1</td>\n",
       "      <td>Employed</td>\n",
       "      <td>0.0</td>\n",
       "      <td>11333.333333</td>\n",
       "      <td>NaN</td>\n",
       "      <td>15000</td>\n",
       "      <td>2013-06-24 00:00:00</td>\n",
       "      <td>0</td>\n",
       "      <td>1</td>\n",
       "    </tr>\n",
       "  </tbody>\n",
       "</table>\n",
       "</div>"
      ],
      "text/plain": [
       "       Term             LoanStatus  BorrowerAPR  BorrowerRate  \\\n",
       "66721    36              Completed      0.15904        0.1375   \n",
       "31540    36                Current      0.19236        0.1559   \n",
       "94548    36                Current      0.22773        0.1905   \n",
       "54669    36              Completed      0.12503        0.1110   \n",
       "19171    36              Completed      0.20182        0.1945   \n",
       "38310    36              Completed      0.16386        0.1495   \n",
       "26202    36             Chargedoff      0.26954        0.2600   \n",
       "29739    60  Past Due (16-30 days)      0.22262        0.1982   \n",
       "99646    36              Completed      0.17142        0.1570   \n",
       "17414    60                Current      0.16499        0.1419   \n",
       "\n",
       "      ProsperRating (Alpha)  ProsperScore  ListingCategory (numeric)  \\\n",
       "66721                     B           8.0                          5   \n",
       "31540                     B           6.0                          1   \n",
       "94548                     C           3.0                          3   \n",
       "54669                   NaN           NaN                          1   \n",
       "19171                   NaN           NaN                          0   \n",
       "38310                   NaN           NaN                          4   \n",
       "26202                   NaN           NaN                          0   \n",
       "29739                     B           6.0                          1   \n",
       "99646                   NaN           NaN                          1   \n",
       "17414                     B           6.0                          1   \n",
       "\n",
       "      EmploymentStatus  DelinquenciesLast7Years  StatedMonthlyIncome  \\\n",
       "66721        Full-time                      3.0          5666.666667   \n",
       "31540            Other                      0.0          5416.666667   \n",
       "94548         Employed                      0.0          5000.000000   \n",
       "54669        Full-time                      0.0          3833.333333   \n",
       "19171        Full-time                      0.0          5403.666667   \n",
       "38310        Full-time                      0.0          7833.333333   \n",
       "26202    Not available                      0.0          2666.666667   \n",
       "29739         Employed                      0.0          1333.333333   \n",
       "99646    Self-employed                      0.0          2916.666667   \n",
       "17414         Employed                      0.0         11333.333333   \n",
       "\n",
       "       TotalProsperLoans  LoanOriginalAmount  LoanOriginationDate  \\\n",
       "66721                1.0                4700  2010-06-29 00:00:00   \n",
       "31540                NaN                8000  2013-04-22 00:00:00   \n",
       "94548                NaN               15000  2014-02-10 00:00:00   \n",
       "54669                NaN               10000  2008-06-24 00:00:00   \n",
       "19171                NaN               12200  2007-03-06 00:00:00   \n",
       "38310                NaN                2000  2008-05-14 00:00:00   \n",
       "26202                NaN                2000  2006-11-24 00:00:00   \n",
       "29739                NaN               15000  2012-12-19 00:00:00   \n",
       "99646                NaN                7000  2008-10-09 00:00:00   \n",
       "17414                NaN               15000  2013-06-24 00:00:00   \n",
       "\n",
       "       Recommendations  Investors  \n",
       "66721                0        183  \n",
       "31540                0          1  \n",
       "94548                0          1  \n",
       "54669                0        279  \n",
       "19171                0        173  \n",
       "38310                0         16  \n",
       "26202                0         32  \n",
       "29739                0        179  \n",
       "99646                0        210  \n",
       "17414                0          1  "
      ]
     },
     "execution_count": 8,
     "metadata": {},
     "output_type": "execute_result"
    }
   ],
   "source": [
    "#Let's view a small sample\n",
    "df2.sample(10)"
   ]
  },
  {
   "cell_type": "code",
   "execution_count": 9,
   "metadata": {},
   "outputs": [
    {
     "name": "stdout",
     "output_type": "stream",
     "text": [
      "<class 'pandas.core.frame.DataFrame'>\n",
      "RangeIndex: 113937 entries, 0 to 113936\n",
      "Data columns (total 15 columns):\n",
      " #   Column                     Non-Null Count   Dtype  \n",
      "---  ------                     --------------   -----  \n",
      " 0   Term                       113937 non-null  int64  \n",
      " 1   LoanStatus                 113937 non-null  object \n",
      " 2   BorrowerAPR                113912 non-null  float64\n",
      " 3   BorrowerRate               113937 non-null  float64\n",
      " 4   ProsperRating (Alpha)      84853 non-null   object \n",
      " 5   ProsperScore               84853 non-null   float64\n",
      " 6   ListingCategory (numeric)  113937 non-null  int64  \n",
      " 7   EmploymentStatus           111682 non-null  object \n",
      " 8   DelinquenciesLast7Years    112947 non-null  float64\n",
      " 9   StatedMonthlyIncome        113937 non-null  float64\n",
      " 10  TotalProsperLoans          22085 non-null   float64\n",
      " 11  LoanOriginalAmount         113937 non-null  int64  \n",
      " 12  LoanOriginationDate        113937 non-null  object \n",
      " 13  Recommendations            113937 non-null  int64  \n",
      " 14  Investors                  113937 non-null  int64  \n",
      "dtypes: float64(6), int64(5), object(4)\n",
      "memory usage: 13.0+ MB\n"
     ]
    }
   ],
   "source": [
    "df2.info()"
   ]
  },
  {
   "cell_type": "code",
   "execution_count": 10,
   "metadata": {},
   "outputs": [
    {
     "data": {
      "text/plain": [
       "Term                             0\n",
       "LoanStatus                       0\n",
       "BorrowerAPR                     25\n",
       "BorrowerRate                     0\n",
       "ProsperRating (Alpha)        29084\n",
       "ProsperScore                 29084\n",
       "ListingCategory (numeric)        0\n",
       "EmploymentStatus              2255\n",
       "DelinquenciesLast7Years        990\n",
       "StatedMonthlyIncome              0\n",
       "TotalProsperLoans            91852\n",
       "LoanOriginalAmount               0\n",
       "LoanOriginationDate              0\n",
       "Recommendations                  0\n",
       "Investors                        0\n",
       "dtype: int64"
      ]
     },
     "execution_count": 10,
     "metadata": {},
     "output_type": "execute_result"
    }
   ],
   "source": [
    "#Checking for any nulls\n",
    "df2.isna().sum()"
   ]
  },
  {
   "cell_type": "markdown",
   "metadata": {},
   "source": [
    "Prosper have used their own proprietary Prosper Rating from 2009. We have a lot of missing values in ProsperRating column and ProsperScore column as well. Let's drop these missing values:"
   ]
  },
  {
   "cell_type": "code",
   "execution_count": 11,
   "metadata": {},
   "outputs": [
    {
     "data": {
      "text/plain": [
       "index                            0\n",
       "Term                             0\n",
       "LoanStatus                       0\n",
       "BorrowerAPR                      0\n",
       "BorrowerRate                     0\n",
       "ProsperRating (Alpha)            0\n",
       "ProsperScore                     0\n",
       "ListingCategory (numeric)        0\n",
       "EmploymentStatus                 0\n",
       "DelinquenciesLast7Years          0\n",
       "StatedMonthlyIncome              0\n",
       "TotalProsperLoans            65056\n",
       "LoanOriginalAmount               0\n",
       "LoanOriginationDate              0\n",
       "Recommendations                  0\n",
       "Investors                        0\n",
       "dtype: int64"
      ]
     },
     "execution_count": 11,
     "metadata": {},
     "output_type": "execute_result"
    }
   ],
   "source": [
    "df2 = df2.dropna(subset=['ProsperRating (Alpha)']).reset_index()\n",
    "df2.isna().sum()"
   ]
  },
  {
   "cell_type": "markdown",
   "metadata": {},
   "source": [
    "Next, I will convert the loan origination date to date time and fill the NAs in the TotalProsperLoans with zero"
   ]
  },
  {
   "cell_type": "code",
   "execution_count": 12,
   "metadata": {},
   "outputs": [],
   "source": [
    "df2['LoanOriginationDate'] = pd.to_datetime(df2['LoanOriginationDate'])\n",
    "df2['TotalProsperLoans'] = df2['TotalProsperLoans'].fillna(0)"
   ]
  },
  {
   "cell_type": "code",
   "execution_count": 13,
   "metadata": {},
   "outputs": [
    {
     "name": "stdout",
     "output_type": "stream",
     "text": [
      "<class 'pandas.core.frame.DataFrame'>\n",
      "RangeIndex: 84853 entries, 0 to 84852\n",
      "Data columns (total 16 columns):\n",
      " #   Column                     Non-Null Count  Dtype         \n",
      "---  ------                     --------------  -----         \n",
      " 0   index                      84853 non-null  int64         \n",
      " 1   Term                       84853 non-null  int64         \n",
      " 2   LoanStatus                 84853 non-null  object        \n",
      " 3   BorrowerAPR                84853 non-null  float64       \n",
      " 4   BorrowerRate               84853 non-null  float64       \n",
      " 5   ProsperRating (Alpha)      84853 non-null  object        \n",
      " 6   ProsperScore               84853 non-null  float64       \n",
      " 7   ListingCategory (numeric)  84853 non-null  int64         \n",
      " 8   EmploymentStatus           84853 non-null  object        \n",
      " 9   DelinquenciesLast7Years    84853 non-null  float64       \n",
      " 10  StatedMonthlyIncome        84853 non-null  float64       \n",
      " 11  TotalProsperLoans          84853 non-null  float64       \n",
      " 12  LoanOriginalAmount         84853 non-null  int64         \n",
      " 13  LoanOriginationDate        84853 non-null  datetime64[ns]\n",
      " 14  Recommendations            84853 non-null  int64         \n",
      " 15  Investors                  84853 non-null  int64         \n",
      "dtypes: datetime64[ns](1), float64(6), int64(6), object(3)\n",
      "memory usage: 10.4+ MB\n"
     ]
    }
   ],
   "source": [
    "df2.info()"
   ]
  },
  {
   "cell_type": "code",
   "execution_count": 14,
   "metadata": {},
   "outputs": [
    {
     "data": {
      "text/plain": [
       "index                        0\n",
       "Term                         0\n",
       "LoanStatus                   0\n",
       "BorrowerAPR                  0\n",
       "BorrowerRate                 0\n",
       "ProsperRating (Alpha)        0\n",
       "ProsperScore                 0\n",
       "ListingCategory (numeric)    0\n",
       "EmploymentStatus             0\n",
       "DelinquenciesLast7Years      0\n",
       "StatedMonthlyIncome          0\n",
       "TotalProsperLoans            0\n",
       "LoanOriginalAmount           0\n",
       "LoanOriginationDate          0\n",
       "Recommendations              0\n",
       "Investors                    0\n",
       "dtype: int64"
      ]
     },
     "execution_count": 14,
     "metadata": {},
     "output_type": "execute_result"
    }
   ],
   "source": [
    "#Final check for any missing data\n",
    "df2.isna().sum()"
   ]
  },
  {
   "cell_type": "code",
   "execution_count": 15,
   "metadata": {},
   "outputs": [
    {
     "data": {
      "text/html": [
       "<div>\n",
       "<style scoped>\n",
       "    .dataframe tbody tr th:only-of-type {\n",
       "        vertical-align: middle;\n",
       "    }\n",
       "\n",
       "    .dataframe tbody tr th {\n",
       "        vertical-align: top;\n",
       "    }\n",
       "\n",
       "    .dataframe thead th {\n",
       "        text-align: right;\n",
       "    }\n",
       "</style>\n",
       "<table border=\"1\" class=\"dataframe\">\n",
       "  <thead>\n",
       "    <tr style=\"text-align: right;\">\n",
       "      <th></th>\n",
       "      <th>index</th>\n",
       "      <th>Term</th>\n",
       "      <th>BorrowerAPR</th>\n",
       "      <th>BorrowerRate</th>\n",
       "      <th>ProsperScore</th>\n",
       "      <th>ListingCategory (numeric)</th>\n",
       "      <th>DelinquenciesLast7Years</th>\n",
       "      <th>StatedMonthlyIncome</th>\n",
       "      <th>TotalProsperLoans</th>\n",
       "      <th>LoanOriginalAmount</th>\n",
       "      <th>Recommendations</th>\n",
       "      <th>Investors</th>\n",
       "    </tr>\n",
       "  </thead>\n",
       "  <tbody>\n",
       "    <tr>\n",
       "      <th>count</th>\n",
       "      <td>84853.000000</td>\n",
       "      <td>84853.000000</td>\n",
       "      <td>84853.000000</td>\n",
       "      <td>84853.000000</td>\n",
       "      <td>84853.000000</td>\n",
       "      <td>84853.000000</td>\n",
       "      <td>84853.000000</td>\n",
       "      <td>8.485300e+04</td>\n",
       "      <td>84853.000000</td>\n",
       "      <td>84853.000000</td>\n",
       "      <td>84853.000000</td>\n",
       "      <td>84853.000000</td>\n",
       "    </tr>\n",
       "    <tr>\n",
       "      <th>mean</th>\n",
       "      <td>56958.246850</td>\n",
       "      <td>42.486135</td>\n",
       "      <td>0.226658</td>\n",
       "      <td>0.196022</td>\n",
       "      <td>5.950067</td>\n",
       "      <td>3.312647</td>\n",
       "      <td>3.659435</td>\n",
       "      <td>5.931175e+03</td>\n",
       "      <td>0.340789</td>\n",
       "      <td>9083.440515</td>\n",
       "      <td>0.017560</td>\n",
       "      <td>68.264669</td>\n",
       "    </tr>\n",
       "    <tr>\n",
       "      <th>std</th>\n",
       "      <td>32885.220638</td>\n",
       "      <td>11.640346</td>\n",
       "      <td>0.079916</td>\n",
       "      <td>0.074631</td>\n",
       "      <td>2.376501</td>\n",
       "      <td>4.364277</td>\n",
       "      <td>9.347957</td>\n",
       "      <td>8.239944e+03</td>\n",
       "      <td>0.726235</td>\n",
       "      <td>6287.860058</td>\n",
       "      <td>0.187963</td>\n",
       "      <td>95.195831</td>\n",
       "    </tr>\n",
       "    <tr>\n",
       "      <th>min</th>\n",
       "      <td>1.000000</td>\n",
       "      <td>12.000000</td>\n",
       "      <td>0.045830</td>\n",
       "      <td>0.040000</td>\n",
       "      <td>1.000000</td>\n",
       "      <td>0.000000</td>\n",
       "      <td>0.000000</td>\n",
       "      <td>0.000000e+00</td>\n",
       "      <td>0.000000</td>\n",
       "      <td>1000.000000</td>\n",
       "      <td>0.000000</td>\n",
       "      <td>1.000000</td>\n",
       "    </tr>\n",
       "    <tr>\n",
       "      <th>25%</th>\n",
       "      <td>28507.000000</td>\n",
       "      <td>36.000000</td>\n",
       "      <td>0.163280</td>\n",
       "      <td>0.135900</td>\n",
       "      <td>4.000000</td>\n",
       "      <td>1.000000</td>\n",
       "      <td>0.000000</td>\n",
       "      <td>3.434000e+03</td>\n",
       "      <td>0.000000</td>\n",
       "      <td>4000.000000</td>\n",
       "      <td>0.000000</td>\n",
       "      <td>1.000000</td>\n",
       "    </tr>\n",
       "    <tr>\n",
       "      <th>50%</th>\n",
       "      <td>56960.000000</td>\n",
       "      <td>36.000000</td>\n",
       "      <td>0.219450</td>\n",
       "      <td>0.187500</td>\n",
       "      <td>6.000000</td>\n",
       "      <td>1.000000</td>\n",
       "      <td>0.000000</td>\n",
       "      <td>5.000000e+03</td>\n",
       "      <td>0.000000</td>\n",
       "      <td>7500.000000</td>\n",
       "      <td>0.000000</td>\n",
       "      <td>32.000000</td>\n",
       "    </tr>\n",
       "    <tr>\n",
       "      <th>75%</th>\n",
       "      <td>85420.000000</td>\n",
       "      <td>60.000000</td>\n",
       "      <td>0.292540</td>\n",
       "      <td>0.257400</td>\n",
       "      <td>8.000000</td>\n",
       "      <td>3.000000</td>\n",
       "      <td>2.000000</td>\n",
       "      <td>7.083333e+03</td>\n",
       "      <td>0.000000</td>\n",
       "      <td>13500.000000</td>\n",
       "      <td>0.000000</td>\n",
       "      <td>97.000000</td>\n",
       "    </tr>\n",
       "    <tr>\n",
       "      <th>max</th>\n",
       "      <td>113936.000000</td>\n",
       "      <td>60.000000</td>\n",
       "      <td>0.423950</td>\n",
       "      <td>0.360000</td>\n",
       "      <td>11.000000</td>\n",
       "      <td>20.000000</td>\n",
       "      <td>99.000000</td>\n",
       "      <td>1.750003e+06</td>\n",
       "      <td>8.000000</td>\n",
       "      <td>35000.000000</td>\n",
       "      <td>19.000000</td>\n",
       "      <td>1189.000000</td>\n",
       "    </tr>\n",
       "  </tbody>\n",
       "</table>\n",
       "</div>"
      ],
      "text/plain": [
       "               index          Term   BorrowerAPR  BorrowerRate  ProsperScore  \\\n",
       "count   84853.000000  84853.000000  84853.000000  84853.000000  84853.000000   \n",
       "mean    56958.246850     42.486135      0.226658      0.196022      5.950067   \n",
       "std     32885.220638     11.640346      0.079916      0.074631      2.376501   \n",
       "min         1.000000     12.000000      0.045830      0.040000      1.000000   \n",
       "25%     28507.000000     36.000000      0.163280      0.135900      4.000000   \n",
       "50%     56960.000000     36.000000      0.219450      0.187500      6.000000   \n",
       "75%     85420.000000     60.000000      0.292540      0.257400      8.000000   \n",
       "max    113936.000000     60.000000      0.423950      0.360000     11.000000   \n",
       "\n",
       "       ListingCategory (numeric)  DelinquenciesLast7Years  \\\n",
       "count               84853.000000             84853.000000   \n",
       "mean                    3.312647                 3.659435   \n",
       "std                     4.364277                 9.347957   \n",
       "min                     0.000000                 0.000000   \n",
       "25%                     1.000000                 0.000000   \n",
       "50%                     1.000000                 0.000000   \n",
       "75%                     3.000000                 2.000000   \n",
       "max                    20.000000                99.000000   \n",
       "\n",
       "       StatedMonthlyIncome  TotalProsperLoans  LoanOriginalAmount  \\\n",
       "count         8.485300e+04       84853.000000        84853.000000   \n",
       "mean          5.931175e+03           0.340789         9083.440515   \n",
       "std           8.239944e+03           0.726235         6287.860058   \n",
       "min           0.000000e+00           0.000000         1000.000000   \n",
       "25%           3.434000e+03           0.000000         4000.000000   \n",
       "50%           5.000000e+03           0.000000         7500.000000   \n",
       "75%           7.083333e+03           0.000000        13500.000000   \n",
       "max           1.750003e+06           8.000000        35000.000000   \n",
       "\n",
       "       Recommendations     Investors  \n",
       "count     84853.000000  84853.000000  \n",
       "mean          0.017560     68.264669  \n",
       "std           0.187963     95.195831  \n",
       "min           0.000000      1.000000  \n",
       "25%           0.000000      1.000000  \n",
       "50%           0.000000     32.000000  \n",
       "75%           0.000000     97.000000  \n",
       "max          19.000000   1189.000000  "
      ]
     },
     "execution_count": 15,
     "metadata": {},
     "output_type": "execute_result"
    }
   ],
   "source": [
    "df2.describe()"
   ]
  },
  {
   "cell_type": "markdown",
   "metadata": {},
   "source": [
    "On the ProsperScore column, i notice an outlier. Some borrowers seem to be having a score of above 10. I will exclude them."
   ]
  },
  {
   "cell_type": "code",
   "execution_count": 16,
   "metadata": {},
   "outputs": [],
   "source": [
    "df2 = df2[df2.ProsperScore <= 10]"
   ]
  },
  {
   "cell_type": "code",
   "execution_count": 17,
   "metadata": {},
   "outputs": [
    {
     "data": {
      "text/html": [
       "<div>\n",
       "<style scoped>\n",
       "    .dataframe tbody tr th:only-of-type {\n",
       "        vertical-align: middle;\n",
       "    }\n",
       "\n",
       "    .dataframe tbody tr th {\n",
       "        vertical-align: top;\n",
       "    }\n",
       "\n",
       "    .dataframe thead th {\n",
       "        text-align: right;\n",
       "    }\n",
       "</style>\n",
       "<table border=\"1\" class=\"dataframe\">\n",
       "  <thead>\n",
       "    <tr style=\"text-align: right;\">\n",
       "      <th></th>\n",
       "      <th>index</th>\n",
       "      <th>Term</th>\n",
       "      <th>BorrowerAPR</th>\n",
       "      <th>BorrowerRate</th>\n",
       "      <th>ProsperScore</th>\n",
       "      <th>ListingCategory (numeric)</th>\n",
       "      <th>DelinquenciesLast7Years</th>\n",
       "      <th>StatedMonthlyIncome</th>\n",
       "      <th>TotalProsperLoans</th>\n",
       "      <th>LoanOriginalAmount</th>\n",
       "      <th>Recommendations</th>\n",
       "      <th>Investors</th>\n",
       "    </tr>\n",
       "  </thead>\n",
       "  <tbody>\n",
       "    <tr>\n",
       "      <th>count</th>\n",
       "      <td>83397.000000</td>\n",
       "      <td>83397.000000</td>\n",
       "      <td>83397.000000</td>\n",
       "      <td>83397.000000</td>\n",
       "      <td>83397.000000</td>\n",
       "      <td>83397.000000</td>\n",
       "      <td>83397.000000</td>\n",
       "      <td>8.339700e+04</td>\n",
       "      <td>83397.000000</td>\n",
       "      <td>83397.000000</td>\n",
       "      <td>83397.000000</td>\n",
       "      <td>83397.000000</td>\n",
       "    </tr>\n",
       "    <tr>\n",
       "      <th>mean</th>\n",
       "      <td>56960.167068</td>\n",
       "      <td>42.482248</td>\n",
       "      <td>0.228663</td>\n",
       "      <td>0.197815</td>\n",
       "      <td>5.861902</td>\n",
       "      <td>3.316222</td>\n",
       "      <td>3.698634</td>\n",
       "      <td>5.880222e+03</td>\n",
       "      <td>0.329173</td>\n",
       "      <td>8982.621185</td>\n",
       "      <td>0.017291</td>\n",
       "      <td>67.810161</td>\n",
       "    </tr>\n",
       "    <tr>\n",
       "      <th>std</th>\n",
       "      <td>32903.815432</td>\n",
       "      <td>11.654919</td>\n",
       "      <td>0.079011</td>\n",
       "      <td>0.073931</td>\n",
       "      <td>2.300729</td>\n",
       "      <td>4.363780</td>\n",
       "      <td>9.396220</td>\n",
       "      <td>8.271991e+03</td>\n",
       "      <td>0.709997</td>\n",
       "      <td>6202.474999</td>\n",
       "      <td>0.187729</td>\n",
       "      <td>94.190355</td>\n",
       "    </tr>\n",
       "    <tr>\n",
       "      <th>min</th>\n",
       "      <td>1.000000</td>\n",
       "      <td>12.000000</td>\n",
       "      <td>0.045830</td>\n",
       "      <td>0.040000</td>\n",
       "      <td>1.000000</td>\n",
       "      <td>0.000000</td>\n",
       "      <td>0.000000</td>\n",
       "      <td>0.000000e+00</td>\n",
       "      <td>0.000000</td>\n",
       "      <td>1000.000000</td>\n",
       "      <td>0.000000</td>\n",
       "      <td>1.000000</td>\n",
       "    </tr>\n",
       "    <tr>\n",
       "      <th>25%</th>\n",
       "      <td>28472.000000</td>\n",
       "      <td>36.000000</td>\n",
       "      <td>0.167320</td>\n",
       "      <td>0.139600</td>\n",
       "      <td>4.000000</td>\n",
       "      <td>1.000000</td>\n",
       "      <td>0.000000</td>\n",
       "      <td>3.416667e+03</td>\n",
       "      <td>0.000000</td>\n",
       "      <td>4000.000000</td>\n",
       "      <td>0.000000</td>\n",
       "      <td>1.000000</td>\n",
       "    </tr>\n",
       "    <tr>\n",
       "      <th>50%</th>\n",
       "      <td>56969.000000</td>\n",
       "      <td>36.000000</td>\n",
       "      <td>0.221400</td>\n",
       "      <td>0.189900</td>\n",
       "      <td>6.000000</td>\n",
       "      <td>1.000000</td>\n",
       "      <td>0.000000</td>\n",
       "      <td>5.000000e+03</td>\n",
       "      <td>0.000000</td>\n",
       "      <td>7500.000000</td>\n",
       "      <td>0.000000</td>\n",
       "      <td>32.000000</td>\n",
       "    </tr>\n",
       "    <tr>\n",
       "      <th>75%</th>\n",
       "      <td>85473.000000</td>\n",
       "      <td>60.000000</td>\n",
       "      <td>0.293410</td>\n",
       "      <td>0.257900</td>\n",
       "      <td>8.000000</td>\n",
       "      <td>3.000000</td>\n",
       "      <td>2.000000</td>\n",
       "      <td>7.083333e+03</td>\n",
       "      <td>0.000000</td>\n",
       "      <td>13000.000000</td>\n",
       "      <td>0.000000</td>\n",
       "      <td>96.000000</td>\n",
       "    </tr>\n",
       "    <tr>\n",
       "      <th>max</th>\n",
       "      <td>113936.000000</td>\n",
       "      <td>60.000000</td>\n",
       "      <td>0.423950</td>\n",
       "      <td>0.360000</td>\n",
       "      <td>10.000000</td>\n",
       "      <td>20.000000</td>\n",
       "      <td>99.000000</td>\n",
       "      <td>1.750003e+06</td>\n",
       "      <td>8.000000</td>\n",
       "      <td>35000.000000</td>\n",
       "      <td>19.000000</td>\n",
       "      <td>1189.000000</td>\n",
       "    </tr>\n",
       "  </tbody>\n",
       "</table>\n",
       "</div>"
      ],
      "text/plain": [
       "               index          Term   BorrowerAPR  BorrowerRate  ProsperScore  \\\n",
       "count   83397.000000  83397.000000  83397.000000  83397.000000  83397.000000   \n",
       "mean    56960.167068     42.482248      0.228663      0.197815      5.861902   \n",
       "std     32903.815432     11.654919      0.079011      0.073931      2.300729   \n",
       "min         1.000000     12.000000      0.045830      0.040000      1.000000   \n",
       "25%     28472.000000     36.000000      0.167320      0.139600      4.000000   \n",
       "50%     56969.000000     36.000000      0.221400      0.189900      6.000000   \n",
       "75%     85473.000000     60.000000      0.293410      0.257900      8.000000   \n",
       "max    113936.000000     60.000000      0.423950      0.360000     10.000000   \n",
       "\n",
       "       ListingCategory (numeric)  DelinquenciesLast7Years  \\\n",
       "count               83397.000000             83397.000000   \n",
       "mean                    3.316222                 3.698634   \n",
       "std                     4.363780                 9.396220   \n",
       "min                     0.000000                 0.000000   \n",
       "25%                     1.000000                 0.000000   \n",
       "50%                     1.000000                 0.000000   \n",
       "75%                     3.000000                 2.000000   \n",
       "max                    20.000000                99.000000   \n",
       "\n",
       "       StatedMonthlyIncome  TotalProsperLoans  LoanOriginalAmount  \\\n",
       "count         8.339700e+04       83397.000000        83397.000000   \n",
       "mean          5.880222e+03           0.329173         8982.621185   \n",
       "std           8.271991e+03           0.709997         6202.474999   \n",
       "min           0.000000e+00           0.000000         1000.000000   \n",
       "25%           3.416667e+03           0.000000         4000.000000   \n",
       "50%           5.000000e+03           0.000000         7500.000000   \n",
       "75%           7.083333e+03           0.000000        13000.000000   \n",
       "max           1.750003e+06           8.000000        35000.000000   \n",
       "\n",
       "       Recommendations     Investors  \n",
       "count     83397.000000  83397.000000  \n",
       "mean          0.017291     67.810161  \n",
       "std           0.187729     94.190355  \n",
       "min           0.000000      1.000000  \n",
       "25%           0.000000      1.000000  \n",
       "50%           0.000000     32.000000  \n",
       "75%           0.000000     96.000000  \n",
       "max          19.000000   1189.000000  "
      ]
     },
     "execution_count": 17,
     "metadata": {},
     "output_type": "execute_result"
    }
   ],
   "source": [
    "df2.describe()"
   ]
  },
  {
   "cell_type": "code",
   "execution_count": 18,
   "metadata": {},
   "outputs": [
    {
     "name": "stdout",
     "output_type": "stream",
     "text": [
      "<class 'pandas.core.frame.DataFrame'>\n",
      "Int64Index: 83397 entries, 0 to 84852\n",
      "Data columns (total 16 columns):\n",
      " #   Column                     Non-Null Count  Dtype         \n",
      "---  ------                     --------------  -----         \n",
      " 0   index                      83397 non-null  int64         \n",
      " 1   Term                       83397 non-null  int64         \n",
      " 2   LoanStatus                 83397 non-null  object        \n",
      " 3   BorrowerAPR                83397 non-null  float64       \n",
      " 4   BorrowerRate               83397 non-null  float64       \n",
      " 5   ProsperRating (Alpha)      83397 non-null  object        \n",
      " 6   ProsperScore               83397 non-null  float64       \n",
      " 7   ListingCategory (numeric)  83397 non-null  int64         \n",
      " 8   EmploymentStatus           83397 non-null  object        \n",
      " 9   DelinquenciesLast7Years    83397 non-null  float64       \n",
      " 10  StatedMonthlyIncome        83397 non-null  float64       \n",
      " 11  TotalProsperLoans          83397 non-null  float64       \n",
      " 12  LoanOriginalAmount         83397 non-null  int64         \n",
      " 13  LoanOriginationDate        83397 non-null  datetime64[ns]\n",
      " 14  Recommendations            83397 non-null  int64         \n",
      " 15  Investors                  83397 non-null  int64         \n",
      "dtypes: datetime64[ns](1), float64(6), int64(6), object(3)\n",
      "memory usage: 10.8+ MB\n"
     ]
    }
   ],
   "source": [
    "df2.info()"
   ]
  },
  {
   "cell_type": "code",
   "execution_count": 19,
   "metadata": {},
   "outputs": [],
   "source": [
    "# Finally, i will convert prosper rating into ordered categorical type\n",
    "ordinal_var_dict = {'ProsperRating (Alpha)': ['HR','E','D','C','B','A','AA']}\n",
    "\n",
    "for var in ordinal_var_dict:\n",
    "    ordered_var = pd.api.types.CategoricalDtype(ordered = True,\n",
    "                                                categories = ordinal_var_dict[var])\n",
    "    df2[var] = df2[var].astype(ordered_var)"
   ]
  },
  {
   "cell_type": "markdown",
   "metadata": {},
   "source": [
    "### What is the structure of your dataset?\n",
    "\n",
    "The cleaned up dataset now has 84852 records and 16 columns. It has a combination of numeric and categorical features. Numeric features are the most because we only have 3 categorical variables: LoanStatus, ProsperRating(alpha) and Employment status. \n",
    "\n",
    "### What is/are the main feature(s) of interest in your dataset?\n",
    "\n",
    "The main feature of interest in the dataset is the Loan Status. This will give us information of whether a customer has defaulted or not.\n",
    "\n",
    "### What features in the dataset do you think will help support your investigation into your feature(s) of interest?\n",
    "\n",
    "Here, I am interested in exploring several features e.g. prosper rating, prosper score, employment status, monthly income and  loan original amount."
   ]
  },
  {
   "cell_type": "markdown",
   "metadata": {},
   "source": [
    "## Univariate Exploration"
   ]
  },
  {
   "cell_type": "markdown",
   "metadata": {},
   "source": [
    "### Loan Status "
   ]
  },
  {
   "cell_type": "code",
   "execution_count": 20,
   "metadata": {},
   "outputs": [],
   "source": [
    "#Setting the color\n",
    "base_color = sns.color_palette()[0]"
   ]
  },
  {
   "cell_type": "code",
   "execution_count": 21,
   "metadata": {},
   "outputs": [
    {
     "data": {
      "image/png": "[encoded data removed]",
      "text/plain": [
       "<Figure size 432x288 with 1 Axes>"
      ]
     },
     "metadata": {
      "needs_background": "light"
     },
     "output_type": "display_data"
    }
   ],
   "source": [
    "# Plot the loan status on a Horizontal bar chart\n",
    "loanstatus_order = df2['LoanStatus'].value_counts().index\n",
    "ax = sns.countplot(data = df2, y='LoanStatus', color = base_color, order = loanstatus_order)\n",
    "ax.set_title('Loan Status')\n",
    "ax.set_ylabel('Loan Status');"
   ]
  },
  {
   "cell_type": "markdown",
   "metadata": {},
   "source": [
    "Most of the loans in the dataset are current loans. Completed and chargedof loans also contribute a substantial proportion of the total loans. The Loans that are past due are split based on the number of days past due. Most of the loans that are past due are past due by 1 to 15 days. Next, i will investigate the employment status."
   ]
  },
  {
   "cell_type": "markdown",
   "metadata": {},
   "source": [
    "### Employment Status"
   ]
  },
  {
   "cell_type": "code",
   "execution_count": 22,
   "metadata": {},
   "outputs": [
    {
     "data": {
      "image/png": "[encoded data removed]",
      "text/plain": [
       "<Figure size 432x288 with 1 Axes>"
      ]
     },
     "metadata": {
      "needs_background": "light"
     },
     "output_type": "display_data"
    }
   ],
   "source": [
    "emp_order = df2['EmploymentStatus'].value_counts().index\n",
    "ax = sns.countplot(data = df2, y='EmploymentStatus', color=base_color, order=emp_order);\n",
    "ax.set_title('Employment Status')\n",
    "ax.set_ylabel('Employment Status');"
   ]
  },
  {
   "cell_type": "markdown",
   "metadata": {},
   "source": [
    "Majority of the borrowers are employed. Next, I will explore the ProsperScore"
   ]
  },
  {
   "cell_type": "markdown",
   "metadata": {},
   "source": [
    "### Prosper Score"
   ]
  },
  {
   "cell_type": "code",
   "execution_count": 23,
   "metadata": {},
   "outputs": [
    {
     "data": {
      "image/png": "[encoded data removed]",
      "text/plain": [
       "<Figure size 432x288 with 1 Axes>"
      ]
     },
     "metadata": {
      "needs_background": "light"
     },
     "output_type": "display_data"
    }
   ],
   "source": [
    "ax = sns.countplot(data = df2, x='ProsperScore')\n",
    "ax.set_title('Prosper Score')\n",
    "ax.set_xlabel('Prosper Score');"
   ]
  },
  {
   "cell_type": "markdown",
   "metadata": {},
   "source": [
    "Majority of the borrrowers scored between 4 and 8 in the prosper rating score. Next, I will explore the stated monthly income."
   ]
  },
  {
   "cell_type": "markdown",
   "metadata": {},
   "source": [
    "### Monthly Income"
   ]
  },
  {
   "cell_type": "code",
   "execution_count": 24,
   "metadata": {},
   "outputs": [
    {
     "data": {
      "image/png": "[encoded data removed]",
      "text/plain": [
       "<Figure size 432x288 with 1 Axes>"
      ]
     },
     "metadata": {
      "needs_background": "light"
     },
     "output_type": "display_data"
    }
   ],
   "source": [
    "plt.hist(data = df2, x = 'StatedMonthlyIncome', bins = 1000);"
   ]
  },
  {
   "cell_type": "markdown",
   "metadata": {},
   "source": [
    "We notice great skewness on one side. This shows that we might be having some outliers."
   ]
  },
  {
   "cell_type": "code",
   "execution_count": 25,
   "metadata": {},
   "outputs": [
    {
     "data": {
      "text/plain": [
       "232"
      ]
     },
     "execution_count": 25,
     "metadata": {},
     "output_type": "execute_result"
    }
   ],
   "source": [
    "income_std = df2['StatedMonthlyIncome'].std()\n",
    "income_mean = df2['StatedMonthlyIncome'].mean()\n",
    "boundary = income_mean + income_std * 3\n",
    "len(df2[df2['StatedMonthlyIncome'] >= boundary])"
   ]
  },
  {
   "cell_type": "code",
   "execution_count": 26,
   "metadata": {},
   "outputs": [
    {
     "data": {
      "image/png": "[encoded data removed]",
      "text/plain": [
       "<Figure size 432x288 with 1 Axes>"
      ]
     },
     "metadata": {
      "needs_background": "light"
     },
     "output_type": "display_data"
    }
   ],
   "source": [
    "plt.hist(data = df2, x = 'StatedMonthlyIncome', bins = 1000)\n",
    "plt.xlim(0, boundary)\n",
    "plt.xlabel('Stated Monthly Income') \n",
    "plt.ylabel('Frequency')\n",
    "plt.title('Histogram of Stated Monthly Income Variable');"
   ]
  },
  {
   "cell_type": "markdown",
   "metadata": {},
   "source": [
    "The skewness on one side is still noticable. What we also see is that the mode is 5000. Next, i will explore the loan amount."
   ]
  },
  {
   "cell_type": "markdown",
   "metadata": {},
   "source": [
    "### Loan Original Amount"
   ]
  },
  {
   "cell_type": "code",
   "execution_count": 27,
   "metadata": {},
   "outputs": [
    {
     "data": {
      "image/png": "[encoded data removed]",
      "text/plain": [
       "<Figure size 432x288 with 1 Axes>"
      ]
     },
     "metadata": {
      "needs_background": "light"
     },
     "output_type": "display_data"
    }
   ],
   "source": [
    "plt.hist(data = df2, x = 'LoanOriginalAmount', bins = 5000);"
   ]
  },
  {
   "cell_type": "code",
   "execution_count": 28,
   "metadata": {},
   "outputs": [
    {
     "data": {
      "text/plain": [
       "534"
      ]
     },
     "execution_count": 28,
     "metadata": {},
     "output_type": "execute_result"
    }
   ],
   "source": [
    "#Let us check for outliers just like we did for the income variable\n",
    "income_std = df2['LoanOriginalAmount'].std()\n",
    "income_mean = df2['LoanOriginalAmount'].mean()\n",
    "boundary = income_mean + income_std * 3\n",
    "len(df2[df2['LoanOriginalAmount'] >= boundary])"
   ]
  },
  {
   "cell_type": "code",
   "execution_count": 29,
   "metadata": {},
   "outputs": [
    {
     "data": {
      "image/png": "[encoded data removed]",
      "text/plain": [
       "<Figure size 432x288 with 1 Axes>"
      ]
     },
     "metadata": {
      "needs_background": "light"
     },
     "output_type": "display_data"
    }
   ],
   "source": [
    "plt.hist(data = df2, x = 'LoanOriginalAmount', bins = 5000)\n",
    "plt.xlim(0, boundary)\n",
    "plt.xlabel('Loan Original Amount') \n",
    "plt.ylabel('Frequency')\n",
    "plt.title('Histogram of Loan Original Amount Variable');"
   ]
  },
  {
   "cell_type": "markdown",
   "metadata": {},
   "source": [
    "The loan original amount variable is affected by outliers. Despite making an adjustment and excluding them in our histogram plot, they are still there and we also notice a skewness on the left side."
   ]
  },
  {
   "cell_type": "markdown",
   "metadata": {},
   "source": [
    "### Discuss the distribution(s) of your variable(s) of interest. Were there any unusual points? Did you need to perform any transformations?\n",
    "\n",
    "The stated monthly income and loan original amount variables are skewed to the left. The mode income is 5000. Majority of the borrowers are employed and had a prosper score rating of between 4 and 8. Most of the loans featured are current loans.\n",
    "\n",
    "### Of the features you investigated, were there any unusual distributions? Did you perform any operations on the data to tidy, adjust, or change the form of the data? If so, why did you do this?\n",
    "\n",
    "We did the cleaning before we began the univariate data analysis. Eve though there are sm outliers in the monthly income and loan original amount variables, I will not remove them for now."
   ]
  },
  {
   "cell_type": "markdown",
   "metadata": {},
   "source": [
    "## Bivariate Exploration"
   ]
  },
  {
   "cell_type": "markdown",
   "metadata": {},
   "source": [
    "Here, I am interested in the completed versus defaulted loans only. I will also include the charged off loans because these are written off loans and i will re-lable them as defaulted. My bivariate analysis will be focused on this feature."
   ]
  },
  {
   "cell_type": "code",
   "execution_count": 30,
   "metadata": {},
   "outputs": [
    {
     "data": {
      "text/plain": [
       "Completed    19633\n",
       "Defaulted     6340\n",
       "Name: LoanStatus, dtype: int64"
      ]
     },
     "execution_count": 30,
     "metadata": {},
     "output_type": "execute_result"
    }
   ],
   "source": [
    "#Preparing the loan status column\n",
    "condition = (df2['LoanStatus'] == 'Completed') | (df2['LoanStatus'] == 'Defaulted') |\\\n",
    "                  (df2['LoanStatus'] == 'Chargedoff')\n",
    "df2 = df2[condition]\n",
    "\n",
    "def change_to_defaulted(row):\n",
    "    if row['LoanStatus'] == 'Chargedoff':\n",
    "        return 'Defaulted'\n",
    "    else:\n",
    "        return row['LoanStatus']\n",
    "    \n",
    "df2['LoanStatus'] = df2.apply(change_to_defaulted, axis=1)\n",
    "df2['LoanStatus'].value_counts()"
   ]
  },
  {
   "cell_type": "markdown",
   "metadata": {},
   "source": [
    "After picking the loan statuses that I am interested in, I now have 19633 completed loans and 6340 defaulted."
   ]
  },
  {
   "cell_type": "markdown",
   "metadata": {},
   "source": [
    "### Loan status and Prosper rating "
   ]
  },
  {
   "cell_type": "code",
   "execution_count": 31,
   "metadata": {},
   "outputs": [
    {
     "data": {
      "image/png": "[encoded data removed]",
      "text/plain": [
       "<Figure size 432x288 with 1 Axes>"
      ]
     },
     "metadata": {
      "needs_background": "light"
     },
     "output_type": "display_data"
    }
   ],
   "source": [
    "ax = sns.countplot(data = df2, x = 'LoanStatus', hue = 'ProsperRating (Alpha)', palette = 'Reds')\n",
    "ax.set_title('Loan Status and Prosper Rating')\n",
    "ax.set_xlabel('Loan Status');\n"
   ]
  },
  {
   "cell_type": "markdown",
   "metadata": {},
   "source": [
    "The most common prosper rating among the completed loans is D. This is also the most common rating among the defaulters. Next, I will look at the loan status and employment status"
   ]
  },
  {
   "cell_type": "markdown",
   "metadata": {},
   "source": [
    "### Loan Status and Employment Status"
   ]
  },
  {
   "cell_type": "code",
   "execution_count": 32,
   "metadata": {},
   "outputs": [
    {
     "data": {
      "image/png": "[encoded data removed]",
      "text/plain": [
       "<Figure size 432x288 with 1 Axes>"
      ]
     },
     "metadata": {
      "needs_background": "light"
     },
     "output_type": "display_data"
    }
   ],
   "source": [
    "ax = sns.countplot(data = df2, x = 'LoanStatus', hue = 'EmploymentStatus', palette = 'Greens')\n",
    "ax.set_title('Loan Status and Employment Status')\n",
    "ax.set_xlabel('Loan Status');"
   ]
  },
  {
   "cell_type": "markdown",
   "metadata": {},
   "source": [
    "The most common mployment status among the borrowers who have completed their loans is Employed followed by full time employment status. Among the defaulters, the most common employment status is employed also followed by full time employment status. Next, I will look at loan status and stated monthly income."
   ]
  },
  {
   "cell_type": "markdown",
   "metadata": {},
   "source": [
    "### Loan Status and Loan Original Amount"
   ]
  },
  {
   "cell_type": "code",
   "execution_count": 33,
   "metadata": {},
   "outputs": [
    {
     "data": {
      "image/png": "[encoded data removed]",
      "text/plain": [
       "<Figure size 432x288 with 1 Axes>"
      ]
     },
     "metadata": {
      "needs_background": "light"
     },
     "output_type": "display_data"
    }
   ],
   "source": [
    "ax = sns.boxplot(data = df2, x = 'LoanStatus', y = 'LoanOriginalAmount', color = base_color)\n",
    "ax.set_title('Loan Status and Loan Original Amount')\n",
    "ax.set_xlabel('Loan Status');"
   ]
  },
  {
   "cell_type": "markdown",
   "metadata": {},
   "source": [
    "Smaller amounts are involved among the defaulters compared to the borrowers who have completed their loans. Next, I will look at the prosper rating and employment status"
   ]
  },
  {
   "cell_type": "markdown",
   "metadata": {},
   "source": [
    "### Prosper rating and employment status"
   ]
  },
  {
   "cell_type": "code",
   "execution_count": 34,
   "metadata": {},
   "outputs": [
    {
     "data": {
      "image/png": "[encoded data removed]",
      "text/plain": [
       "<Figure size 864x720 with 1 Axes>"
      ]
     },
     "metadata": {
      "needs_background": "light"
     },
     "output_type": "display_data"
    }
   ],
   "source": [
    "plt.figure(figsize = [12, 10])\n",
    "ax = sns.countplot(data = df2, x = 'ProsperRating (Alpha)', hue = 'EmploymentStatus', palette = 'Reds')\n",
    "ax.set_title('Prosper rating and Employment status')\n",
    "ax.set_xlabel('Prosper rating');"
   ]
  },
  {
   "cell_type": "markdown",
   "metadata": {},
   "source": [
    "Lower prosper ratings seem to have greater proportions of individuals with employment statuses: Not Employed, Self-employed, Retired and Part-Time. Next, I will look at loan status and Prosper score."
   ]
  },
  {
   "cell_type": "markdown",
   "metadata": {},
   "source": [
    "### Loan Status and Prosper Score"
   ]
  },
  {
   "cell_type": "code",
   "execution_count": 35,
   "metadata": {},
   "outputs": [
    {
     "data": {
      "image/png": "[encoded data removed]",
      "text/plain": [
       "<Figure size 432x288 with 1 Axes>"
      ]
     },
     "metadata": {
      "needs_background": "light"
     },
     "output_type": "display_data"
    }
   ],
   "source": [
    "ax = sns.countplot(data = df2, x = 'LoanStatus', hue = 'ProsperScore', palette = 'Blues')\n",
    "ax.set_title('Loan Status and Prosper Score')\n",
    "ax.set_xlabel('Loan Status');"
   ]
  },
  {
   "cell_type": "markdown",
   "metadata": {},
   "source": [
    "Among the defaulters, the most common scores are between 4 and 6 whereas among the borrowers whose loans are complete, the most common scores are between 6 and 9."
   ]
  },
  {
   "cell_type": "markdown",
   "metadata": {},
   "source": [
    "### Talk about some of the relationships you observed in this part of the investigation. How did the feature(s) of interest vary with other features in the dataset?\n",
    "\n",
    "The original loans amounts among the defaulters are smaller. Most of the defaulters have a prosper rating of D and majority are employed. Looking also at their prosper scores, they tend to have lower scores.\n",
    "\n",
    "### Did you observe any interesting relationships between the other features (not the main feature(s) of interest)?\n",
    "\n",
    "Lower prosper ratings seem to have greater proportions of individuals with employment statuses: Not Employed, Self-employed, Retired and Part-Time. Also, rating D is most common among both defaulters and borrowers whose loans have been paid fully."
   ]
  },
  {
   "cell_type": "markdown",
   "metadata": {},
   "source": [
    "## Multivariate Exploration"
   ]
  },
  {
   "cell_type": "markdown",
   "metadata": {},
   "source": [
    "### Posper rating, Loan Status and Original loan amount"
   ]
  },
  {
   "cell_type": "code",
   "execution_count": 36,
   "metadata": {},
   "outputs": [
    {
     "data": {
      "image/png": "[encoded data removed]",
      "text/plain": [
       "<Figure size 864x576 with 1 Axes>"
      ]
     },
     "metadata": {
      "needs_background": "light"
     },
     "output_type": "display_data"
    }
   ],
   "source": [
    "plt.figure(figsize = [12, 8])\n",
    "ax = sns.boxplot(data=df2, x='ProsperRating (Alpha)', y='LoanOriginalAmount', hue='LoanStatus')\n",
    "ax.set_title('Prosper rating, loan status and original loan amount')\n",
    "ax.set_xlabel('Prosper rating');"
   ]
  },
  {
   "cell_type": "markdown",
   "metadata": {},
   "source": [
    "Most of the defaults are from borrowers with a lower prosper rating and the involved original loan amounts are higher compared to the borrowers who have completed paying off their loans."
   ]
  },
  {
   "cell_type": "markdown",
   "metadata": {},
   "source": [
    "### Loan original amount, loan status and prosper score"
   ]
  },
  {
   "cell_type": "code",
   "execution_count": 37,
   "metadata": {},
   "outputs": [
    {
     "data": {
      "image/png": "[encoded data removed]",
      "text/plain": [
       "<Figure size 864x720 with 1 Axes>"
      ]
     },
     "metadata": {
      "needs_background": "light"
     },
     "output_type": "display_data"
    }
   ],
   "source": [
    "plt.figure(figsize = [12, 10])\n",
    "ax = sns.violinplot(data=df2, x='ProsperScore', y='LoanOriginalAmount', hue='LoanStatus')\n",
    "ax.set_title('Prosper scores, loan status and original loan amount')\n",
    "ax.set_xlabel('Prosper Score');"
   ]
  },
  {
   "cell_type": "markdown",
   "metadata": {},
   "source": [
    "Most of the defaulters have lower proper scores and the amounts involved are slightly higher compared to the other group."
   ]
  },
  {
   "cell_type": "markdown",
   "metadata": {},
   "source": [
    "### Talk about some of the relationships you observed in this part of the investigation. Were there features that strengthened each other in terms of looking at your feature(s) of interest?\n",
    "\n",
    "The defualters ahve lower proper ratings and the involved loan amounts are higher. Looking at the credit scores, most of the defaulters have lower scores and amounts involved are higher.\n",
    "\n",
    "### Were there any interesting or surprising interactions between features?\n",
    "\n",
    "The original loan amounts among the defaulters are higher compared to the completed category."
   ]
  }
 ],
 "metadata": {
  "kernelspec": {
   "display_name": "Python 3",
   "language": "python",
   "name": "python3"
  },
  "language_info": {
   "codemirror_mode": {
    "name": "ipython",
    "version": 3
   },
   "file_extension": ".py",
   "mimetype": "text/x-python",
   "name": "python",
   "nbconvert_exporter": "python",
   "pygments_lexer": "ipython3",
   "version": "3.8.5"
  }
 },
 "nbformat": 4,
 "nbformat_minor": 2
}
